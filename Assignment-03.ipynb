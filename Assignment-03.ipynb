{
 "cells": [
  {
   "cell_type": "code",
   "execution_count": 1,
   "id": "2387b746-022d-485d-95ba-4f15b63387e0",
   "metadata": {},
   "outputs": [],
   "source": [
    "import sklearn.datasets"
   ]
  },
  {
   "cell_type": "code",
   "execution_count": 2,
   "id": "de8ad662-6bce-487c-909c-d69ce0efb172",
   "metadata": {},
   "outputs": [],
   "source": [
    "diabetes = sklearn.datasets.load_diabetes()"
   ]
  },
  {
   "cell_type": "code",
   "execution_count": 3,
   "id": "70e3821e-535e-43f5-b6c4-f8150d9e3cff",
   "metadata": {},
   "outputs": [
    {
     "name": "stdout",
     "output_type": "stream",
     "text": [
      ".. _diabetes_dataset:\n",
      "\n",
      "Diabetes dataset\n",
      "----------------\n",
      "\n",
      "Ten baseline variables, age, sex, body mass index, average blood\n",
      "pressure, and six blood serum measurements were obtained for each of n =\n",
      "442 diabetes patients, as well as the response of interest, a\n",
      "quantitative measure of disease progression one year after baseline.\n",
      "\n",
      "**Data Set Characteristics:**\n",
      "\n",
      "  :Number of Instances: 442\n",
      "\n",
      "  :Number of Attributes: First 10 columns are numeric predictive values\n",
      "\n",
      "  :Target: Column 11 is a quantitative measure of disease progression one year after baseline\n",
      "\n",
      "  :Attribute Information:\n",
      "      - age     age in years\n",
      "      - sex\n",
      "      - bmi     body mass index\n",
      "      - bp      average blood pressure\n",
      "      - s1      tc, total serum cholesterol\n",
      "      - s2      ldl, low-density lipoproteins\n",
      "      - s3      hdl, high-density lipoproteins\n",
      "      - s4      tch, total cholesterol / HDL\n",
      "      - s5      ltg, possibly log of serum triglycerides level\n",
      "      - s6      glu, blood sugar level\n",
      "\n",
      "Note: Each of these 10 feature variables have been mean centered and scaled by the standard deviation times `n_samples` (i.e. the sum of squares of each column totals 1).\n",
      "\n",
      "Source URL:\n",
      "https://www4.stat.ncsu.edu/~boos/var.select/diabetes.html\n",
      "\n",
      "For more information see:\n",
      "Bradley Efron, Trevor Hastie, Iain Johnstone and Robert Tibshirani (2004) \"Least Angle Regression,\" Annals of Statistics (with discussion), 407-499.\n",
      "(https://web.stanford.edu/~hastie/Papers/LARS/LeastAngle_2002.pdf)\n"
     ]
    }
   ],
   "source": [
    "print(diabetes.DESCR)"
   ]
  },
  {
   "cell_type": "code",
   "execution_count": 4,
   "id": "9bae06c9-3186-491c-b138-37a68130c543",
   "metadata": {},
   "outputs": [],
   "source": [
    "x = diabetes.data"
   ]
  },
  {
   "cell_type": "code",
   "execution_count": 5,
   "id": "1429afc8-0a00-4522-9c04-c7b174ce8e52",
   "metadata": {},
   "outputs": [],
   "source": [
    "y = diabetes.target"
   ]
  },
  {
   "cell_type": "code",
   "execution_count": 6,
   "id": "0a9a5979-82f5-43b3-9a30-a8ae124cf94e",
   "metadata": {},
   "outputs": [
    {
     "data": {
      "text/plain": [
       "array([-0.00188202, -0.04464164, -0.05147406, -0.02632783, -0.00844872,\n",
       "       -0.01916334,  0.07441156, -0.03949338, -0.06832974, -0.09220405])"
      ]
     },
     "execution_count": 6,
     "metadata": {},
     "output_type": "execute_result"
    }
   ],
   "source": [
    "x[1]"
   ]
  },
  {
   "cell_type": "code",
   "execution_count": 7,
   "id": "04056bf4-fcbc-4872-ad3a-851f9bfd1c86",
   "metadata": {},
   "outputs": [
    {
     "data": {
      "text/plain": [
       "442"
      ]
     },
     "execution_count": 7,
     "metadata": {},
     "output_type": "execute_result"
    }
   ],
   "source": [
    "len(x)"
   ]
  },
  {
   "cell_type": "code",
   "execution_count": 11,
   "id": "ece9dd7b-1214-40cc-b334-22193ec5af13",
   "metadata": {},
   "outputs": [],
   "source": [
    "import matplotlib.pyplot as plt"
   ]
  },
  {
   "cell_type": "code",
   "execution_count": 12,
   "id": "eb9e77dc-e8ac-4310-a157-e15aa1e95ee4",
   "metadata": {},
   "outputs": [
    {
     "data": {
      "text/plain": [
       "<matplotlib.collections.PathCollection at 0x7ff29ba7cf10>"
      ]
     },
     "execution_count": 12,
     "metadata": {},
     "output_type": "execute_result"
    },
    {
     "data": {
      "image/png": "[encoded data removed]",
      "text/plain": [
       "<Figure size 432x288 with 1 Axes>"
      ]
     },
     "metadata": {
      "needs_background": "light"
     },
     "output_type": "display_data"
    }
   ],
   "source": [
    "feat6 = []\n",
    "for item in x:\n",
    "    feat6.append(item[6])\n",
    "    \n",
    "plt.scatter(feat6,y)"
   ]
  },
  {
   "cell_type": "code",
   "execution_count": 13,
   "id": "d116f245-9aea-410b-8559-711ec39ef7e4",
   "metadata": {},
   "outputs": [],
   "source": [
    "y = (diabetes.target > 150)"
   ]
  },
  {
   "cell_type": "code",
   "execution_count": 14,
   "id": "d171e402-924c-48a4-9a5e-2effc618d18c",
   "metadata": {},
   "outputs": [
    {
     "data": {
      "text/plain": [
       "<matplotlib.collections.PathCollection at 0x7ff293981df0>"
      ]
     },
     "execution_count": 14,
     "metadata": {},
     "output_type": "execute_result"
    },
    {
     "data": {
      "image/png": "[encoded data removed]",
      "text/plain": [
       "<Figure size 432x288 with 1 Axes>"
      ]
     },
     "metadata": {
      "needs_background": "light"
     },
     "output_type": "display_data"
    }
   ],
   "source": [
    "plt.scatter(feat6,y)"
   ]
  },
  {
   "cell_type": "code",
   "execution_count": 20,
   "id": "0f0bfc6f-c887-49ff-9e9f-348f30f745b3",
   "metadata": {},
   "outputs": [
    {
     "data": {
      "text/plain": [
       "<matplotlib.collections.PathCollection at 0x7ff286650bb0>"
      ]
     },
     "execution_count": 20,
     "metadata": {},
     "output_type": "execute_result"
    },
    {
     "data": {
      "image/png": "[encoded data removed]",
      "text/plain": [
       "<Figure size 432x288 with 1 Axes>"
      ]
     },
     "metadata": {
      "needs_background": "light"
     },
     "output_type": "display_data"
    }
   ],
   "source": [
    "feat7 = []\n",
    "for item in x:\n",
    "    feat7.append(item[7])\n",
    "    \n",
    "plt.scatter(feat7,y)"
   ]
  },
  {
   "cell_type": "code",
   "execution_count": 21,
   "id": "6b3e787a-8ab0-43c7-ae6b-93582e507e0d",
   "metadata": {},
   "outputs": [],
   "source": [
    "import sklearn.linear_model"
   ]
  },
  {
   "cell_type": "code",
   "execution_count": 28,
   "id": "3b372209-9c36-48c8-9a25-7cfd39426f5c",
   "metadata": {},
   "outputs": [],
   "source": [
    "import numpy as np"
   ]
  },
  {
   "cell_type": "code",
   "execution_count": 22,
   "id": "35be70b3-6492-40d1-b59c-c02af1415228",
   "metadata": {},
   "outputs": [],
   "source": [
    "model = sklearn.linear_model.LogisticRegression()"
   ]
  },
  {
   "cell_type": "code",
   "execution_count": 29,
   "id": "13261d49-7583-4ad6-88d4-f7560513c90d",
   "metadata": {},
   "outputs": [],
   "source": [
    "feat7 = np.array(feat7).reshape(-1,1)"
   ]
  },
  {
   "cell_type": "code",
   "execution_count": 30,
   "id": "0e54ae2c-038b-465d-9737-2cf5b4ceaccd",
   "metadata": {},
   "outputs": [],
   "source": [
    "x_train, x_test, y_train, y_test = sklearn.model_selection.train_test_split(\n",
    "    feat7, y, test_size=0.2, random_state=42)"
   ]
  },
  {
   "cell_type": "code",
   "execution_count": 31,
   "id": "16e9cf5e-53ba-497f-ba8a-73dd2c2b2b4e",
   "metadata": {},
   "outputs": [
    {
     "data": {
      "text/plain": [
       "LogisticRegression()"
      ]
     },
     "execution_count": 31,
     "metadata": {},
     "output_type": "execute_result"
    }
   ],
   "source": [
    "model.fit(x_train,y_train)"
   ]
  },
  {
   "cell_type": "code",
   "execution_count": 36,
   "id": "15b503af-76aa-40e3-a728-d44b5382615e",
   "metadata": {},
   "outputs": [
    {
     "name": "stdout",
     "output_type": "stream",
     "text": [
      "[[2.30265566]] [-0.18886424]\n"
     ]
    }
   ],
   "source": [
    "print(model.coef_, model.intercept_)"
   ]
  },
  {
   "cell_type": "code",
   "execution_count": 37,
   "id": "0ea5c5be-c3c1-497a-9493-a68280597c3c",
   "metadata": {},
   "outputs": [
    {
     "data": {
      "image/png": "[encoded data removed]",
      "text/plain": [
       "<Figure size 432x288 with 1 Axes>"
      ]
     },
     "metadata": {
      "needs_background": "light"
     },
     "output_type": "display_data"
    }
   ],
   "source": [
    "plt.scatter(x_test,y_test)\n",
    "\n",
    "x_new = np.linspace(-.05,.15,10000)\n",
    "x_new = x_new.reshape(-1,1)\n",
    "y_new = model.predict(x_new)\n",
    "plt.plot(x_new, y_new)\n",
    "\n",
    "plt.show()"
   ]
  },
  {
   "cell_type": "code",
   "execution_count": 38,
   "id": "11eacc10-5eeb-4c2c-b866-8b3d43325b90",
   "metadata": {},
   "outputs": [
    {
     "data": {
      "text/plain": [
       "<matplotlib.collections.PathCollection at 0x7ff285ef72b0>"
      ]
     },
     "execution_count": 38,
     "metadata": {},
     "output_type": "execute_result"
    },
    {
     "data": {
      "image/png": "[encoded data removed]",
      "text/plain": [
       "<Figure size 432x288 with 1 Axes>"
      ]
     },
     "metadata": {
      "needs_background": "light"
     },
     "output_type": "display_data"
    }
   ],
   "source": [
    "plt.scatter(x_train,y_train)"
   ]
  },
  {
   "cell_type": "code",
   "execution_count": 39,
   "id": "2a3129d4-c72f-477f-b3d5-72cffb09d8c1",
   "metadata": {},
   "outputs": [
    {
     "data": {
      "text/plain": [
       "<matplotlib.collections.PathCollection at 0x7ff285eda2e0>"
      ]
     },
     "execution_count": 39,
     "metadata": {},
     "output_type": "execute_result"
    },
    {
     "data": {
      "image/png": "[encoded data removed]",
      "text/plain": [
       "<Figure size 432x288 with 1 Axes>"
      ]
     },
     "metadata": {
      "needs_background": "light"
     },
     "output_type": "display_data"
    }
   ],
   "source": [
    "plt.scatter(x_test,y_test)"
   ]
  },
  {
   "cell_type": "code",
   "execution_count": 41,
   "id": "380ca6a0-b508-4850-8a90-afdff9b44354",
   "metadata": {},
   "outputs": [],
   "source": [
    "from sklearn.metrics import confusion_matrix"
   ]
  },
  {
   "cell_type": "code",
   "execution_count": 43,
   "id": "c03f05c1-f2f6-47c0-ae0d-b6143b5ef5ea",
   "metadata": {},
   "outputs": [
    {
     "data": {
      "text/plain": [
       "array([[237,   5],\n",
       "       [183,  17]])"
      ]
     },
     "execution_count": 43,
     "metadata": {},
     "output_type": "execute_result"
    }
   ],
   "source": [
    "confusion_matrix(y, model.predict(feat7))"
   ]
  },
  {
   "cell_type": "code",
   "execution_count": 44,
   "id": "1d09fe61-d8e4-4a2d-8387-572c5ec47543",
   "metadata": {},
   "outputs": [],
   "source": [
    "from sklearn.metrics import classification_report"
   ]
  },
  {
   "cell_type": "code",
   "execution_count": 46,
   "id": "e8ac8165-eedc-461b-b799-f8207d79f5db",
   "metadata": {},
   "outputs": [
    {
     "name": "stdout",
     "output_type": "stream",
     "text": [
      "              precision    recall  f1-score   support\n",
      "\n",
      "       False       0.56      0.98      0.72       242\n",
      "        True       0.77      0.09      0.15       200\n",
      "\n",
      "    accuracy                           0.57       442\n",
      "   macro avg       0.67      0.53      0.43       442\n",
      "weighted avg       0.66      0.57      0.46       442\n",
      "\n"
     ]
    }
   ],
   "source": [
    "print(classification_report(y, model.predict(feat7)))"
   ]
  },
  {
   "cell_type": "code",
   "execution_count": null,
   "id": "5f56c114-d129-4891-b89e-22fd103d240f",
   "metadata": {},
   "outputs": [],
   "source": [
    "#I do not think this was a very good model because as can be seen,\n",
    "#both the accuracy and precision, and especially the recall,\n",
    "#are all quite low of values. The plot also shows a considerable number\n",
    "#of data points that were not represented by the model"
   ]
  },
  {
   "cell_type": "code",
   "execution_count": 47,
   "id": "bf4dd9ae-d257-4aab-ae6e-ffdec464d732",
   "metadata": {},
   "outputs": [
    {
     "data": {
      "text/plain": [
       "<matplotlib.collections.PathCollection at 0x7ff285e54280>"
      ]
     },
     "execution_count": 47,
     "metadata": {},
     "output_type": "execute_result"
    },
    {
     "data": {
      "image/png": "[encoded data removed]",
      "text/plain": [
       "<Figure size 432x288 with 1 Axes>"
      ]
     },
     "metadata": {
      "needs_background": "light"
     },
     "output_type": "display_data"
    }
   ],
   "source": [
    "feat2 = []\n",
    "for item in x:\n",
    "    feat2.append(item[2])\n",
    "    \n",
    "plt.scatter(feat2,y)"
   ]
  },
  {
   "cell_type": "code",
   "execution_count": 49,
   "id": "4013b6fc-af65-4fe7-ba32-db5f62d1c1e8",
   "metadata": {},
   "outputs": [],
   "source": [
    "model = sklearn.linear_model.LogisticRegression()"
   ]
  },
  {
   "cell_type": "code",
   "execution_count": 50,
   "id": "c2dc29da-f92a-41c1-ae3f-5a1456505734",
   "metadata": {},
   "outputs": [],
   "source": [
    "feat2 = np.array(feat2).reshape(-1,1)"
   ]
  },
  {
   "cell_type": "code",
   "execution_count": 51,
   "id": "700744e0-6f93-4427-bad9-7e8e276a44a5",
   "metadata": {},
   "outputs": [],
   "source": [
    "x_train, x_test, y_train, y_test = sklearn.model_selection.train_test_split(\n",
    "    feat2, y, test_size=0.2, random_state=42)"
   ]
  },
  {
   "cell_type": "code",
   "execution_count": 52,
   "id": "b5370d9b-2e65-42bc-87d7-39f7ea7c0069",
   "metadata": {},
   "outputs": [
    {
     "data": {
      "text/plain": [
       "LogisticRegression()"
      ]
     },
     "execution_count": 52,
     "metadata": {},
     "output_type": "execute_result"
    }
   ],
   "source": [
    "model.fit(x_train,y_train)"
   ]
  },
  {
   "cell_type": "code",
   "execution_count": 53,
   "id": "45968f40-4d7a-4bde-bc3c-78eea33b845d",
   "metadata": {},
   "outputs": [
    {
     "name": "stdout",
     "output_type": "stream",
     "text": [
      "[[3.23273265]] [-0.19404704]\n"
     ]
    }
   ],
   "source": [
    "print(model.coef_, model.intercept_)"
   ]
  },
  {
   "cell_type": "code",
   "execution_count": 67,
   "id": "10f3e37d-cc99-4016-b6f5-3bce349b4a9a",
   "metadata": {},
   "outputs": [
    {
     "data": {
      "image/png": "[encoded data removed]",
      "text/plain": [
       "<Figure size 432x288 with 1 Axes>"
      ]
     },
     "metadata": {
      "needs_background": "light"
     },
     "output_type": "display_data"
    }
   ],
   "source": [
    "plt.scatter(x_train,y_train)\n",
    "\n",
    "\n",
    "x_new = np.linspace(-.05,.15,10000)\n",
    "x_new = x_new.reshape(-1,1)\n",
    "y_new = model.predict(x_new)\n",
    "plt.plot(x_new, y_new)\n",
    "\n",
    "plt.show()"
   ]
  },
  {
   "cell_type": "code",
   "execution_count": 69,
   "id": "36a39aec-4fcb-4422-9db1-af76a2dff781",
   "metadata": {},
   "outputs": [
    {
     "data": {
      "text/plain": [
       "<matplotlib.collections.PathCollection at 0x7ff285a90160>"
      ]
     },
     "execution_count": 69,
     "metadata": {},
     "output_type": "execute_result"
    },
    {
     "data": {
      "image/png": "[encoded data removed]",
      "text/plain": [
       "<Figure size 432x288 with 1 Axes>"
      ]
     },
     "metadata": {
      "needs_background": "light"
     },
     "output_type": "display_data"
    }
   ],
   "source": [
    "plt.scatter(x_test,y_test)"
   ]
  },
  {
   "cell_type": "code",
   "execution_count": 58,
   "id": "75a8b33b-8808-4a9e-a7ca-8ed97c4a7585",
   "metadata": {},
   "outputs": [
    {
     "data": {
      "text/plain": [
       "array([[231,  11],\n",
       "       [157,  43]])"
      ]
     },
     "execution_count": 58,
     "metadata": {},
     "output_type": "execute_result"
    }
   ],
   "source": [
    "confusion_matrix(y, model.predict(feat2))"
   ]
  },
  {
   "cell_type": "code",
   "execution_count": 60,
   "id": "b66ff333-d286-4992-915e-80732d2e9b94",
   "metadata": {},
   "outputs": [
    {
     "name": "stdout",
     "output_type": "stream",
     "text": [
      "              precision    recall  f1-score   support\n",
      "\n",
      "       False       0.60      0.95      0.73       242\n",
      "        True       0.80      0.21      0.34       200\n",
      "\n",
      "    accuracy                           0.62       442\n",
      "   macro avg       0.70      0.58      0.54       442\n",
      "weighted avg       0.69      0.62      0.55       442\n",
      "\n"
     ]
    }
   ],
   "source": [
    "print(classification_report(y, model.predict(feat2)))"
   ]
  },
  {
   "cell_type": "code",
   "execution_count": null,
   "id": "077aabb3-4421-4e51-a5dd-9c28d974d6d3",
   "metadata": {},
   "outputs": [],
   "source": [
    "#Compared to the previous feature, this one has higher precision and\n",
    "#recall, making Feature 2 relatively better, also its false rates are\n",
    "#still quite high, making this model not too reliable."
   ]
  },
  {
   "cell_type": "code",
   "execution_count": 70,
   "id": "e6cac929-6936-4fe8-a650-728543d8498a",
   "metadata": {},
   "outputs": [],
   "source": [
    "import sklearn.neighbors"
   ]
  },
  {
   "cell_type": "code",
   "execution_count": 71,
   "id": "3b830ca9-9c00-4aa9-90f6-edc6e392626f",
   "metadata": {},
   "outputs": [],
   "source": [
    "model = sklearn.neighbors.KNeighborsClassifier(n_neighbors=3)"
   ]
  },
  {
   "cell_type": "code",
   "execution_count": 72,
   "id": "e4f4ff96-9cd2-4f4c-9a10-94e22e7634af",
   "metadata": {},
   "outputs": [
    {
     "data": {
      "text/plain": [
       "KNeighborsClassifier(n_neighbors=3)"
      ]
     },
     "execution_count": 72,
     "metadata": {},
     "output_type": "execute_result"
    }
   ],
   "source": [
    "model.fit(feat2,y)"
   ]
  },
  {
   "cell_type": "code",
   "execution_count": 75,
   "id": "485cd57b-7408-4177-988b-33596260cb3f",
   "metadata": {},
   "outputs": [
    {
     "data": {
      "image/png": "[encoded data removed]",
      "text/plain": [
       "<Figure size 432x288 with 1 Axes>"
      ]
     },
     "metadata": {
      "needs_background": "light"
     },
     "output_type": "display_data"
    }
   ],
   "source": [
    "x_new = np.linspace(-.05,.15,10000)\n",
    "x_new = x_new.reshape(-1,1)\n",
    "y_pred = model.predict(x_new)\n",
    "plt.scatter(x_new, y_pred)\n",
    "\n",
    "plt.show()"
   ]
  },
  {
   "cell_type": "code",
   "execution_count": 76,
   "id": "a139bbe8-15d2-4412-9e45-7683f97b4971",
   "metadata": {},
   "outputs": [
    {
     "data": {
      "text/plain": [
       "array([[192,  50],\n",
       "       [ 57, 143]])"
      ]
     },
     "execution_count": 76,
     "metadata": {},
     "output_type": "execute_result"
    }
   ],
   "source": [
    "confusion_matrix(y, model.predict(feat2))"
   ]
  },
  {
   "cell_type": "code",
   "execution_count": 77,
   "id": "dd80c1fd-0f8b-4d34-8048-1770190ced79",
   "metadata": {},
   "outputs": [
    {
     "name": "stdout",
     "output_type": "stream",
     "text": [
      "              precision    recall  f1-score   support\n",
      "\n",
      "       False       0.77      0.79      0.78       242\n",
      "        True       0.74      0.71      0.73       200\n",
      "\n",
      "    accuracy                           0.76       442\n",
      "   macro avg       0.76      0.75      0.75       442\n",
      "weighted avg       0.76      0.76      0.76       442\n",
      "\n"
     ]
    }
   ],
   "source": [
    "print(classification_report(y, model.predict(feat2)))"
   ]
  },
  {
   "cell_type": "code",
   "execution_count": 104,
   "id": "c9482b95-0192-40bc-bb4a-ea7d1c0c17f3",
   "metadata": {},
   "outputs": [],
   "source": [
    "model = sklearn.neighbors.KNeighborsClassifier(n_neighbors=6)"
   ]
  },
  {
   "cell_type": "code",
   "execution_count": 105,
   "id": "990a0b0e-db5e-48d2-937a-9131f8a24def",
   "metadata": {},
   "outputs": [
    {
     "data": {
      "text/plain": [
       "KNeighborsClassifier(n_neighbors=6)"
      ]
     },
     "execution_count": 105,
     "metadata": {},
     "output_type": "execute_result"
    }
   ],
   "source": [
    "model.fit(feat2,y)"
   ]
  },
  {
   "cell_type": "code",
   "execution_count": 106,
   "id": "d9fadcba-7584-4059-8b2d-5cb28db02ec5",
   "metadata": {},
   "outputs": [
    {
     "data": {
      "image/png": "[encoded data removed]",
      "text/plain": [
       "<Figure size 432x288 with 1 Axes>"
      ]
     },
     "metadata": {
      "needs_background": "light"
     },
     "output_type": "display_data"
    }
   ],
   "source": [
    "x_new = np.linspace(-.05,.15,10000)\n",
    "x_new = x_new.reshape(-1,1)\n",
    "y_pred = model.predict(x_new)\n",
    "plt.scatter(x_new, y_pred)\n",
    "\n",
    "plt.show()"
   ]
  },
  {
   "cell_type": "code",
   "execution_count": 107,
   "id": "c8302232-064e-4dfc-835f-2c18003750ff",
   "metadata": {},
   "outputs": [
    {
     "data": {
      "text/plain": [
       "array([[208,  34],\n",
       "       [ 75, 125]])"
      ]
     },
     "execution_count": 107,
     "metadata": {},
     "output_type": "execute_result"
    }
   ],
   "source": [
    "confusion_matrix(y, model.predict(feat2))"
   ]
  },
  {
   "cell_type": "code",
   "execution_count": 108,
   "id": "e2dad8a9-ad2f-4d00-b6bd-b84fe66e5717",
   "metadata": {},
   "outputs": [
    {
     "name": "stdout",
     "output_type": "stream",
     "text": [
      "              precision    recall  f1-score   support\n",
      "\n",
      "       False       0.73      0.86      0.79       242\n",
      "        True       0.79      0.62      0.70       200\n",
      "\n",
      "    accuracy                           0.75       442\n",
      "   macro avg       0.76      0.74      0.74       442\n",
      "weighted avg       0.76      0.75      0.75       442\n",
      "\n"
     ]
    }
   ],
   "source": [
    "print(classification_report(y, model.predict(feat2)))"
   ]
  },
  {
   "cell_type": "code",
   "execution_count": 109,
   "id": "b7d843c4-5315-4d7b-aeb2-a30eb5eff511",
   "metadata": {},
   "outputs": [],
   "source": [
    "model = sklearn.neighbors.KNeighborsClassifier(n_neighbors=15)"
   ]
  },
  {
   "cell_type": "code",
   "execution_count": 110,
   "id": "575ffc33-50e1-4eb5-8644-99ab22b2a94e",
   "metadata": {},
   "outputs": [
    {
     "data": {
      "text/plain": [
       "KNeighborsClassifier(n_neighbors=15)"
      ]
     },
     "execution_count": 110,
     "metadata": {},
     "output_type": "execute_result"
    }
   ],
   "source": [
    "model.fit(feat2,y)"
   ]
  },
  {
   "cell_type": "code",
   "execution_count": 111,
   "id": "13cd4826-c6a7-4dc4-b9bf-26e31816b2c9",
   "metadata": {},
   "outputs": [
    {
     "data": {
      "image/png": "[encoded data removed]",
      "text/plain": [
       "<Figure size 432x288 with 1 Axes>"
      ]
     },
     "metadata": {
      "needs_background": "light"
     },
     "output_type": "display_data"
    }
   ],
   "source": [
    "x_new = np.linspace(-.05,.15,10000)\n",
    "x_new = x_new.reshape(-1,1)\n",
    "y_pred = model.predict(x_new)\n",
    "plt.scatter(x_new, y_pred)\n",
    "\n",
    "plt.show()"
   ]
  },
  {
   "cell_type": "code",
   "execution_count": 112,
   "id": "8cf50269-0219-4d5e-9851-02ac9e995872",
   "metadata": {},
   "outputs": [
    {
     "data": {
      "text/plain": [
       "array([[183,  59],\n",
       "       [ 61, 139]])"
      ]
     },
     "execution_count": 112,
     "metadata": {},
     "output_type": "execute_result"
    }
   ],
   "source": [
    "confusion_matrix(y, model.predict(feat2))"
   ]
  },
  {
   "cell_type": "code",
   "execution_count": 113,
   "id": "52b2fa00-bf9f-4e02-9cd1-3496754b83cd",
   "metadata": {},
   "outputs": [
    {
     "name": "stdout",
     "output_type": "stream",
     "text": [
      "              precision    recall  f1-score   support\n",
      "\n",
      "       False       0.75      0.76      0.75       242\n",
      "        True       0.70      0.69      0.70       200\n",
      "\n",
      "    accuracy                           0.73       442\n",
      "   macro avg       0.73      0.73      0.73       442\n",
      "weighted avg       0.73      0.73      0.73       442\n",
      "\n"
     ]
    }
   ],
   "source": [
    "print(classification_report(y, model.predict(feat2)))"
   ]
  },
  {
   "cell_type": "code",
   "execution_count": null,
   "id": "d2ad5b54-c485-4191-9390-2a98aee13a15",
   "metadata": {},
   "outputs": [],
   "source": []
  },
  {
   "cell_type": "code",
   "execution_count": null,
   "id": "3c533037-3cca-495a-a8c0-540b6c8df96b",
   "metadata": {},
   "outputs": [],
   "source": [
    "#The goodness of classifier for different values of neighbors\n",
    "#were not as distinct as I expected. There did not seem to\n",
    "#be a consistent relationship between neighbor value and\n",
    "#value or recall, precision, or even accuracy, which I would\n",
    "#have expected. Therefore, I think my model may have not have\n",
    "#been correctly performed.\n"
   ]
  }
 ],
 "metadata": {
  "kernelspec": {
   "display_name": "Python 3 (ipykernel)",
   "language": "python",
   "name": "python3"
  },
  "language_info": {
   "codemirror_mode": {
    "name": "ipython",
    "version": 3
   },
   "file_extension": ".py",
   "mimetype": "text/x-python",
   "name": "python",
   "nbconvert_exporter": "python",
   "pygments_lexer": "ipython3",
   "version": "3.9.6"
  }
 },
 "nbformat": 4,
 "nbformat_minor": 5
}
