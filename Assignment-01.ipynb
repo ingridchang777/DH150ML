{
 "cells": [
  {
   "cell_type": "markdown",
   "id": "64e3cf6e-cf51-4531-baa3-c576b50d555b",
   "metadata": {},
   "source": [
    "1. Join our Slack channel\n",
    "    * [click here if you need the link to join](https://join.slack.com/t/slack-tup9115/shared_invite/zt-1b8kosos2-TaVmfT7l_TdpKjQ1izCK0g)\n",
    "    * The following assignment is intended to help you gain familiarity with the requisite software infrastructure and to help you practice (potentially completely new) Python skills\n",
    "    * It's not intended to make you tear your hair out in consternation!\n",
    "    * If you want hints or guidance on the basics, please post in Slack\n",
    "1. Make a new repository on GitHub to store assignments from this class.\n",
    "    * Select the \"Add a README file\" option when making the new repository\n",
    "1. In your account on the JupyterHub, go into your home folder\n",
    "1. Select the GitHub button on the left-hand JupyterHub menu and clone the repository you just created.\n",
    "1. Copy this assignment file into the folder you just cloned.\n",
    "1. Carry out the subsequent exercises (below) in that file and save it.\n",
    "1. Push your completed assignment file to your GitHub repository\n",
    "    1. Select the GitHub button on the left-hand JupyterHub menu\n",
    "    1. Hover over the new files under \"Untracked\" and click on the \"+\" symbol to add them\n",
    "    1. Add a message under the Commit summary on bottom\n",
    "    1. Click on Commit\n",
    "    1. After that is successful, go up to the top of the side panel and click on the button that now has the orange dot (with the cloud symbol and upward arrow)\n",
    "    1. You will need a personal access token for the password\n",
    "        * If you don't have one, follow the steps at GitHub's documentation page for creating a [personal access token](https://docs.github.com/en/authentication/keeping-your-account-and-data-secure/creating-a-personal-access-token)\n",
    "        * When the token is generated, you only get to see it once, so make sure to store it somewhere securely as needed\n",
    "    1. After you push successfully, verify that your files are in your GitHub repository by visiting the website for your repository\n",
    "1. Finish the assignment by submitting a link to your GitHub repository on the Canvas site"
   ]
  },
  {
   "cell_type": "markdown",
   "id": "49b9267a-d050-4671-a643-1103fd47c690",
   "metadata": {},
   "source": [
    "# Python exercises"
   ]
  },
  {
   "cell_type": "code",
   "execution_count": 2,
   "id": "31728919-ffb3-44c6-ba97-d00489c96274",
   "metadata": {},
   "outputs": [
    {
     "name": "stdout",
     "output_type": "stream",
     "text": [
      "8 x 8 = 64\n",
      "47/4 = 11.75\n",
      "96-2 = 94\n"
     ]
    }
   ],
   "source": [
    "# Do at least three mathematical calculations with `+`, `-`, `*`, `/`, and/or `%`.\n",
    "\n",
    "print('8 x 8 =', 8*8)\n",
    "print('47/4 =', 47/4)\n",
<<<<<<< HEAD
    "print('96-2 =', 96-2)"
=======
    "print('96-2 =', 96-2)\n"
>>>>>>> ffbfab1794c76e5259ffedf87a98dc9d57b60af3
   ]
  },
  {
   "cell_type": "code",
   "execution_count": 3,
   "id": "8fe34a6d-a4f7-4111-a95a-257a7de52103",
   "metadata": {},
   "outputs": [
    {
     "name": "stdout",
     "output_type": "stream",
     "text": [
      "a is even\n"
     ]
    }
   ],
   "source": [
    "# Assign a number to the variable `a`,\n",
    "# do a mathematical calculation to determine whether a is odd or even,\n",
    "# and print out either \"a is even\" or \"a is odd\" as appropriate.\n",
    "\n",
    "a = 84\n",
    "84%2\n",
<<<<<<< HEAD
    "print('a is even')"
=======
    "print('a is even')\n"
>>>>>>> ffbfab1794c76e5259ffedf87a98dc9d57b60af3
   ]
  },
  {
   "cell_type": "code",
   "execution_count": 4,
   "id": "a70653e6-0a18-4155-8b4b-c6835f72e4e6",
   "metadata": {},
   "outputs": [
    {
     "name": "stdout",
     "output_type": "stream",
     "text": [
      "1\n",
      "8\n",
      "89\n",
      "11\n",
      "[1, 1, 2, 3, 5, 8, 13, 21, 34, 55, 89]\n",
      "1\n",
      "1\n",
      "2\n",
      "3\n",
      "5\n",
      "[89, 55, 34, 21, 13, 8, 5, 3, 2, 1, 1]\n",
      "[1, 1, 2, 3, 5, 8, 13, 21, 34, 55, 89, 144]\n"
     ]
    }
   ],
   "source": [
    "# Using the given list,\n",
    "# 1. print the list\n",
    "# 2. print the 0th element \n",
    "# 3. print the 5th element \n",
    "# 4. print the last element \n",
    "# 5. print the length\n",
    "#        look at https://python.readthedocs.io/en/stable/library/functions.html\n",
    "#        specifically `len()`\n",
    "# 6. print all the elements\n",
    "# 7. print all the elements less than 8\n",
    "# 8. print out the elements in reverse order\n",
    "#        look at https://python-reference.readthedocs.io/en/latest/docs/list/\n",
    "#        specifically `reverse`\n",
    "# 9. append the next fibonacci number and print out the new list\n",
    "#        look again at the docs, this time for `append`\n",
    "#        [elements in the fibonacci sequence are equal to the sum of the previous two elements]\n",
    "\n",
    "a = [1, 1, 2, 3, 5, 8, 13, 21, 34, 55, 89]\n",
    "\n",
    "print(a[0])\n",
    "print(a[5])\n",
    "print(a[-1])\n",
    "print(len(a))\n",
    "print(a)\n",
    "for el in a:\n",
    "    if el < 8:\n",
    "        print(el)\n",
    "a.reverse()\n",
    "print(a)\n",
    "a.reverse()\n",
    "a.append(a[-1]+a[-2])\n",
    "print(a)"
   ]
  },
  {
   "cell_type": "code",
   "execution_count": 5,
   "id": "22203dab-ac71-45fa-9922-c649c7810488",
   "metadata": {},
   "outputs": [
    {
     "name": "stdout",
     "output_type": "stream",
     "text": [
      "[1, 2, 3, 5, 8, 13]\n",
      "[34, 21, 55, 89, 4, 6, 7, 9, 10, 11, 12]\n"
     ]
    }
   ],
   "source": [
    "# Using the below lists\n",
    "# 1. print out all the elements that are contained in both lists\n",
    "# 2. print out the elements that are contained in either list a or list b but not both\n",
    "\n",
    "a = [1, 1, 2, 3, 5, 8, 13, 21, 34, 55, 89]\n",
    "b = [1, 2, 3, 4, 5, 6, 7, 8, 9, 10, 11, 12, 13]\n",
    "\n",
    "c = list(set(a).intersection(b))\n",
    "print(c)\n",
    "d = list(set(a).difference(b)) + list(set(b).difference(a))\n",
<<<<<<< HEAD
    "print(d)"
=======
    "print(d)\n"
>>>>>>> ffbfab1794c76e5259ffedf87a98dc9d57b60af3
   ]
  },
  {
   "cell_type": "code",
   "execution_count": 6,
   "id": "ad4f7b2a-5cc1-4a65-a5b5-1f2994f42fab",
   "metadata": {},
   "outputs": [
    {
     "name": "stdout",
     "output_type": "stream",
     "text": [
      "4\n",
      "January has 7 letters \n",
      "February has 8 letters \n",
      "March has 5 letters \n",
      "April has 5 letters \n",
      "May has 4 letters \n"
     ]
    }
   ],
   "source": [
    "# Using the below dictionary\n",
    "# add a new item to the dictionary,\n",
    "# print an element from the dictionary,\n",
    "# print out the message \"<key> has <value> letters\" for every <key>/<value> pair\n",
    "\n",
    "a = {'January': 7, 'February': 8, 'March': 5, 'April': 5}\n",
    "\n",
    "a['May'] = 4\n",
    "print(a['May'])\n",
    "for key, val in a.items():\n",
<<<<<<< HEAD
    "    print(str(key) + ' has ' + str(val) + ' letters ')"
=======
    "    print(str(key) + ' has ' + str(val) + ' letters ')\n"
>>>>>>> ffbfab1794c76e5259ffedf87a98dc9d57b60af3
   ]
  },
  {
   "cell_type": "code",
   "execution_count": null,
   "id": "3005621c-e50c-436a-a033-9aadae71eafb",
   "metadata": {},
   "outputs": [],
   "source": [
    "# Write a function that takes as input a list of numbers \n",
    "# and prints a new list of only the first and last elements of the given list.\n",
    "# Execute it with several examples.\n",
    "\n",
    "x = list(input('Provide a list of numbers:'))\n",
    "print([x[0], x[-1]])"
   ]
  },
  {
   "cell_type": "code",
   "execution_count": null,
   "id": "a6a57227-4f07-4f05-bd29-81da8ce2010e",
   "metadata": {},
   "outputs": [],
   "source": [
    "x = input('Provide a list of numbers:')\n",
    "print([x[0], x[-1]])"
   ]
  },
  {
   "cell_type": "code",
   "execution_count": null,
   "id": "ade92880-1eb5-40b2-a1e4-61e8be8c6481",
   "metadata": {},
   "outputs": [],
   "source": [
    "x = input('Provide a list of numbers:')\n",
    "print([x[0], x[-1]])"
   ]
  },
  {
   "cell_type": "code",
   "execution_count": 14,
   "id": "4a607e0a-2e1b-4e44-af40-4571f2e0b4f0",
   "metadata": {},
   "outputs": [
    {
     "name": "stdin",
     "output_type": "stream",
     "text": [
      "Provide a string: racecar\n"
     ]
    },
    {
     "name": "stdout",
     "output_type": "stream",
     "text": [
      "Yes\n"
     ]
    }
   ],
   "source": [
    "# Write a function that takes a string as input\n",
    "# and prints out \"Yes\" or \"No\" depending on whether the\n",
    "# string is a palindrome (spelled the same forwards and backwards).  \n",
    "# Execute it with several examples.\n",
    "\n",
    "x = str(input('Provide a string:'))\n",
    "if x == x[::-1]:\n",
    "    print('Yes')\n",
    "else:\n",
    "    print('No')"
   ]
  },
  {
   "cell_type": "code",
   "execution_count": 15,
   "id": "a9ca02db-8255-480e-9725-ed4b7da74805",
   "metadata": {},
   "outputs": [
    {
     "name": "stdin",
     "output_type": "stream",
     "text": [
      "Provide a string: badminton\n"
     ]
    },
    {
     "name": "stdout",
     "output_type": "stream",
     "text": [
      "No\n"
     ]
    }
   ],
   "source": [
    "x = str(input('Provide a string:'))\n",
    "if x == x[::-1]:\n",
    "    print('Yes')\n",
    "else:\n",
    "    print('No')"
   ]
  },
  {
   "cell_type": "code",
   "execution_count": 16,
   "id": "fbbe3835-4f5b-4505-a066-5ccbe93092cf",
   "metadata": {},
   "outputs": [
    {
     "name": "stdin",
     "output_type": "stream",
     "text": [
      "Provide a string: madam\n"
     ]
    },
    {
     "name": "stdout",
     "output_type": "stream",
     "text": [
      "Yes\n"
     ]
    }
   ],
   "source": [
    "x = str(input('Provide a string:'))\n",
    "if x == x[::-1]:\n",
    "    print('Yes')\n",
    "else:\n",
    "    print('No')"
   ]
  },
  {
   "cell_type": "markdown",
   "id": "86f9df9a-822a-42be-a778-541173a4fefe",
   "metadata": {},
   "source": [
    "Check out the Python documentation for `random` and `string`:\n",
    "* https://python.readthedocs.io/en/stable/library/random.html\n",
    "* https://python.readthedocs.io/en/stable/library/string.html\n",
    "\n",
    "It's overkill for what you need here, but if you search for the specific attributes and methods mentioned below, you will be able to find useful information."
   ]
  },
  {
   "cell_type": "code",
   "execution_count": 27,
   "id": "c221f184-1e0b-491f-97a8-f9fb30458926",
   "metadata": {},
   "outputs": [
    {
     "name": "stdout",
     "output_type": "stream",
     "text": [
      "0.4615534516334938\n",
      "0.36485367245038447\n",
      "0.9884527674170724\n"
     ]
    }
   ],
   "source": [
    "# Write a function that sets a random seed and prints three random numbers between 0 and 1\n",
    "# You may find it useful to look up:\n",
    "# random.seed and random.random\n",
    "\n",
    "import random\n",
    "\n",
    "def func():\n",
    "    random.seed\n",
    "    for i in range(3):\n",
    "        print(random.random())\n",
    "        \n",
    "func()"
   ]
  },
  {
   "cell_type": "code",
   "execution_count": 41,
   "id": "fc7c0629-729b-4c7e-9edb-266fbacb3be7",
   "metadata": {},
   "outputs": [
    {
     "name": "stdout",
     "output_type": "stream",
     "text": [
      "E\n",
      "['U']\n",
      "['v', 'x', 'b', 'n']\n"
     ]
    }
   ],
   "source": [
    "# Write a function that takes an integer as input\n",
    "# and prints a random alphabetical character, alphabetical string,\n",
    "# and alphabetical string of a fixed length equal to the input integer.\n",
    "# You may find it useful to look up:\n",
    "# string.ascii_letters, random.randint, random.choice\n",
    "\n",
    "import string\n",
    "\n",
    "def func(int):\n",
    "    num = random.randint(0, 51)\n",
    "    print(string.ascii_letters[num])\n",
    "    print(random.choices(string.ascii_letters))\n",
    "    print(random.choices(string.ascii_letters, k = int))\n",
    "    \n",
    "func(4)"
   ]
  },
  {
   "cell_type": "code",
   "execution_count": 43,
   "id": "c738c817-00aa-4597-b5c8-f38af11275cb",
   "metadata": {},
   "outputs": [
    {
     "name": "stdout",
     "output_type": "stream",
     "text": [
      "computer\n",
      "program\n",
      "experience\n",
      "respect\n",
      "performance\n",
      "measure\n",
      "performance\n",
      "measured\n",
      "improves\n",
      "experience\n"
     ]
    }
   ],
   "source": [
    "# Print the words in the following sentence that are longer than 6 characters\n",
    "# Note: you may find it useful to look at \n",
    "# `split` in https://python-reference.readthedocs.io/en/latest/docs/str/\n",
    "\n",
    "ml_sentence = '''\n",
    "A computer program is said to learn \n",
    "from experience E with respect to some class of tasks T \n",
    "and performance measure P, if its performance at tasks in T, \n",
    "as measured by P, improves with experience E.\n",
    "'''\n",
    "\n",
    "for word in ml_sentence.split():\n",
    "    if len(word) >6:\n",
<<<<<<< HEAD
    "        print(word)"
=======
    "        print(word)\n"
>>>>>>> ffbfab1794c76e5259ffedf87a98dc9d57b60af3
   ]
  },
  {
   "cell_type": "code",
   "execution_count": 44,
   "id": "25e1bc45-95db-4e39-8abf-614660bc17ba",
   "metadata": {},
   "outputs": [
    {
     "name": "stdout",
     "output_type": "stream",
     "text": [
      "['learn', 'class', 'respect', 'learn', 'at']\n"
     ]
    }
   ],
   "source": [
    "# Print 5 random words from following sentence:\n",
    "\n",
    "ml_sentence = '''\n",
    "A computer program is said to learn \n",
    "from experience E with respect to some class of tasks T \n",
    "and performance measure P if its performance at tasks in T \n",
    "as measured by P improves with experience E.\n",
    "'''\n",
    "\n",
    "sentence_words = ml_sentence.split()\n",
<<<<<<< HEAD
    "print(random.choices(sentence_words, k = 5))"
=======
    "print(random.choices(sentence_words, k = 5))\n"
>>>>>>> ffbfab1794c76e5259ffedf87a98dc9d57b60af3
   ]
  },
  {
   "cell_type": "code",
   "execution_count": 51,
   "id": "8ef4c496-014c-4459-941d-afb431501191",
   "metadata": {},
   "outputs": [
    {
     "name": "stdout",
     "output_type": "stream",
     "text": [
      "{'A': 1, 'computer': 1, 'program': 1, 'is': 1, 'said': 1, 'to': 2, 'learn': 1, 'from': 1, 'experience': 2, 'E': 1, 'with': 2, 'respect': 1, 'some': 1, 'class': 1, 'of': 1, 'tasks': 2, 'T': 2, 'and': 1, 'performance': 2, 'measure': 1, 'P': 2, 'if': 1, 'its': 1, 'at': 1, 'in': 1, 'as': 1, 'measured': 1, 'by': 1, 'improves': 1, 'E.': 1}\n"
     ]
    }
   ],
   "source": [
    "# Using the above 'ml_sentence', make a dictionary with\n",
    "# the dictionary keys equal to the unique words in the sentence,\n",
    "# and the value for each key equal to the number of times each word occurs.\n",
    "# e.g. 'hello my hello friend' would lead to the dictionary {'hello': 2, 'my': 1, 'friend': 1}\n",
    "\n",
    "dict = {}\n",
    "for word in ml_sentence.split():\n",
    "    dict[word] = 0\n",
    "    \n",
    "for word in ml_sentence.split():\n",
    "    dict[word] += 1\n",
    "    \n",
    "print(dict)"
   ]
  },
  {
   "cell_type": "code",
<<<<<<< HEAD
   "execution_count": 57,
=======
   "execution_count": 56,
>>>>>>> ffbfab1794c76e5259ffedf87a98dc9d57b60af3
   "id": "33eaaa90-e336-4367-b072-58a8a71dada8",
   "metadata": {},
   "outputs": [
    {
     "name": "stdout",
     "output_type": "stream",
     "text": [
      "['ï', '»', '¿the', 'project', 'gutenberg', 'ebook', 'of', 'macbeth', ',', 'by']\n"
     ]
    },
    {
     "data": {
      "text/plain": [
<<<<<<< HEAD
       "52"
      ]
     },
     "execution_count": 57,
=======
       "286"
      ]
     },
     "execution_count": 56,
>>>>>>> ffbfab1794c76e5259ffedf87a98dc9d57b60af3
     "metadata": {},
     "output_type": "execute_result"
    }
   ],
   "source": [
    "# Time to roll up our sleeves and make a similar dictionary for all the words in Macbeth.\n",
    "# I am going to do the first part (and you can execute this cell as is to see what happens),\n",
    "# you just need to adapt your code from above to make the dictionary at the end\n",
    "\n",
    "# Here we import libraries that can grab data from the web (via requests) and form a list of words using NLTK.\n",
    "import requests\n",
    "from nltk.tokenize import word_tokenize\n",
    "\n",
    "# Here we get the text of Macbeth from Project Gutenberg (https://www.gutenberg.org/) \n",
    "# and \"tokenize\" the text (split it up into words)\n",
    "target_url = \"https://www.gutenberg.org/files/1533/1533-0.txt\"\n",
    "response = requests.get(target_url)\n",
    "text_string = response.text\n",
    "text_string = text_string.lower()\n",
    "text_words = word_tokenize(text_string)\n",
    "\n",
    "# Here we print the first 10 words\n",
    "print(text_words[0:10])\n",
    "\n",
    "# Put in your code here to make the dictionary with the <word> : <word counts> pairs\n",
    "\n",
    "dict = {}\n",
    "for word in text_words:\n",
    "    dict[word] = 0\n",
    "    \n",
    "for word in text_words:\n",
    "    dict[word] += 1\n",
    "\n",
    "\n",
    "# Check out some entries in the dictionary (such as 'Macbeth', 'sword', 'thy')\n",
    "dict['macbeth']"
   ]
  },
  {
<<<<<<< HEAD
   "cell_type": "code",
   "execution_count": 58,
   "id": "1360bca9-9bd6-46d6-9063-d9f4bbfd964e",
   "metadata": {},
   "outputs": [
    {
     "data": {
      "text/plain": [
       "11"
      ]
     },
     "execution_count": 58,
     "metadata": {},
     "output_type": "execute_result"
    }
   ],
   "source": [
    "dict['sword']"
   ]
  },
  {
   "cell_type": "code",
   "execution_count": 60,
   "id": "54b0d6c8-d204-4388-9260-e326110e64b1",
   "metadata": {},
   "outputs": [
    {
     "data": {
      "text/plain": [
       "52"
      ]
     },
     "execution_count": 60,
     "metadata": {},
     "output_type": "execute_result"
    }
   ],
   "source": [
    "dict['thy']"
   ]
  },
  {
=======
>>>>>>> ffbfab1794c76e5259ffedf87a98dc9d57b60af3
   "cell_type": "markdown",
   "id": "4940bcc8-b6db-4ddd-a0ec-3dcdf5fa4183",
   "metadata": {},
   "source": [
<<<<<<< HEAD
    "# End\n"
=======
    "# End"
>>>>>>> ffbfab1794c76e5259ffedf87a98dc9d57b60af3
   ]
  }
 ],
 "metadata": {
  "kernelspec": {
   "display_name": "Python 3 (ipykernel)",
   "language": "python",
   "name": "python3"
  },
  "language_info": {
   "codemirror_mode": {
    "name": "ipython",
    "version": 3
   },
   "file_extension": ".py",
   "mimetype": "text/x-python",
   "name": "python",
   "nbconvert_exporter": "python",
   "pygments_lexer": "ipython3",
   "version": "3.9.6"
  }
 },
 "nbformat": 4,
 "nbformat_minor": 5
}
