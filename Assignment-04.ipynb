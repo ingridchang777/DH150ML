{
 "cells": [
  {
   "cell_type": "code",
   "execution_count": 43,
   "id": "5373b328-f264-450e-98f4-9d21bcf84a04",
   "metadata": {},
   "outputs": [],
   "source": [
    "import sklearn.datasets\n",
    "diabetes = sklearn.datasets.load_diabetes()"
   ]
  },
  {
   "cell_type": "code",
   "execution_count": 44,
   "id": "1fc2f1f8-5641-436e-9b35-7cd927e11fbd",
   "metadata": {},
   "outputs": [
    {
     "name": "stdout",
     "output_type": "stream",
     "text": [
      ".. _diabetes_dataset:\n",
      "\n",
      "Diabetes dataset\n",
      "----------------\n",
      "\n",
      "Ten baseline variables, age, sex, body mass index, average blood\n",
      "pressure, and six blood serum measurements were obtained for each of n =\n",
      "442 diabetes patients, as well as the response of interest, a\n",
      "quantitative measure of disease progression one year after baseline.\n",
      "\n",
      "**Data Set Characteristics:**\n",
      "\n",
      "  :Number of Instances: 442\n",
      "\n",
      "  :Number of Attributes: First 10 columns are numeric predictive values\n",
      "\n",
      "  :Target: Column 11 is a quantitative measure of disease progression one year after baseline\n",
      "\n",
      "  :Attribute Information:\n",
      "      - age     age in years\n",
      "      - sex\n",
      "      - bmi     body mass index\n",
      "      - bp      average blood pressure\n",
      "      - s1      tc, total serum cholesterol\n",
      "      - s2      ldl, low-density lipoproteins\n",
      "      - s3      hdl, high-density lipoproteins\n",
      "      - s4      tch, total cholesterol / HDL\n",
      "      - s5      ltg, possibly log of serum triglycerides level\n",
      "      - s6      glu, blood sugar level\n",
      "\n",
      "Note: Each of these 10 feature variables have been mean centered and scaled by the standard deviation times `n_samples` (i.e. the sum of squares of each column totals 1).\n",
      "\n",
      "Source URL:\n",
      "https://www4.stat.ncsu.edu/~boos/var.select/diabetes.html\n",
      "\n",
      "For more information see:\n",
      "Bradley Efron, Trevor Hastie, Iain Johnstone and Robert Tibshirani (2004) \"Least Angle Regression,\" Annals of Statistics (with discussion), 407-499.\n",
      "(https://web.stanford.edu/~hastie/Papers/LARS/LeastAngle_2002.pdf)\n"
     ]
    }
   ],
   "source": [
    "print(diabetes.DESCR)"
   ]
  },
  {
   "cell_type": "code",
   "execution_count": 45,
   "id": "a0f39ebe-889a-4a21-830d-79149eb09936",
   "metadata": {},
   "outputs": [],
   "source": [
    "x = diabetes.data\n",
    "y = diabetes.target"
   ]
  },
  {
   "cell_type": "code",
   "execution_count": 46,
   "id": "b5ec7647-588c-4525-a980-373eb0018adc",
   "metadata": {},
   "outputs": [],
   "source": [
    "from sklearn.model_selection import cross_val_score"
   ]
  },
  {
   "cell_type": "code",
   "execution_count": 47,
   "id": "d46c9a89-e876-4cc4-b106-6864d2234d79",
   "metadata": {},
   "outputs": [],
   "source": [
    "import numpy as np\n",
    "import matplotlib.pyplot as plt"
   ]
  },
  {
   "cell_type": "code",
   "execution_count": 54,
   "id": "ef669e85-d677-41fa-8bb2-63a401fbd63b",
   "metadata": {},
   "outputs": [],
   "source": [
    "#k-nearest neighbors\n",
    "import sklearn.neighbors\n",
    "from sklearn.metrics import mean_squared_error"
   ]
  },
  {
   "cell_type": "code",
   "execution_count": 49,
   "id": "a3a94980-1fa6-441c-a583-1db648debbcb",
   "metadata": {},
   "outputs": [
    {
     "name": "stdout",
     "output_type": "stream",
     "text": [
      "Cross validated MSE for 1 = 79.60028726447867\n",
      "Cross validated MSE for 2 = 69.71662373552864\n",
      "Cross validated MSE for 3 = 66.3218962404476\n",
      "Cross validated MSE for 4 = 63.44692657786659\n",
      "Cross validated MSE for 5 = 62.925437159134425\n",
      "Cross validated MSE for 6 = 61.75759380655749\n",
      "Cross validated MSE for 7 = 60.55169550739739\n",
      "Cross validated MSE for 8 = 60.359801521121234\n",
      "Cross validated MSE for 9 = 59.94991223293763\n",
      "Cross validated MSE for 10 = 60.37795939742043\n",
      "Cross validated MSE for 11 = 60.18520317866974\n",
      "Cross validated MSE for 12 = 59.77150116645919\n",
      "Cross validated MSE for 13 = 59.217708682875525\n",
      "Cross validated MSE for 14 = 59.10810275282845\n",
      "Cross validated MSE for 15 = 58.863205905709926\n",
      "Cross validated MSE for 16 = 58.8375903397181\n",
      "Cross validated MSE for 17 = 58.743089148139816\n",
      "Cross validated MSE for 18 = 58.76943286592912\n",
      "Cross validated MSE for 19 = 59.07287764735884\n"
     ]
    }
   ],
   "source": [
    "#split into training and testing sets\n",
    "x_train, x_test, y_train, y_test = sklearn.model_selection.train_test_split(\n",
    "        x, y, test_size=0.2, random_state=42)\n",
    "\n",
    "#calculate cross-validated MSE for k neighbors between 1 to 20\n",
    "k_range = range(1, 20)\n",
    "k_scores = []\n",
    "for k in k_range:\n",
    "    knn = sklearn.neighbors.KNeighborsRegressor(n_neighbors=k)\n",
    "    loss = cross_val_score(knn,\n",
    "                           x_train,\n",
    "                           y_train, \n",
    "                           cv=5, \n",
    "                           scoring='neg_mean_squared_error')\n",
    "    k_score = np.sqrt(-loss).mean()\n",
    "    k_scores.append(np.sqrt(-loss).mean())\n",
    "    print('Cross validated MSE for ' + str(k) + ' = ' + str(k_score))"
   ]
  },
  {
   "cell_type": "code",
   "execution_count": 50,
   "id": "42e741e8-7683-46f7-8d60-043470ba7fc9",
   "metadata": {},
   "outputs": [
    {
     "data": {
      "text/plain": [
       "58.743089148139816"
      ]
     },
     "execution_count": 50,
     "metadata": {},
     "output_type": "execute_result"
    }
   ],
   "source": [
    "#determine the lowest MSE\n",
    "min(k_scores)"
   ]
  },
  {
   "cell_type": "code",
   "execution_count": 52,
   "id": "089b4f71-7218-4014-b61e-a8f44d172d7e",
   "metadata": {},
   "outputs": [],
   "source": [
    "#set the number of neighbors and fit the model onto training data\n",
    "kNeighborModel = sklearn.neighbors.KNeighborsRegressor(n_neighbors=17)\n",
    "kNeighborModel.fit(x_train, y_train)\n",
    "\n",
    "#predict y using testing x test group\n",
    "y_kNeighborPred = kNeighborModel.predict(x_test)"
   ]
  },
  {
   "cell_type": "code",
   "execution_count": 55,
   "id": "89e1e6c1-e779-4a1e-906f-063d173a559a",
   "metadata": {},
   "outputs": [
    {
     "name": "stdout",
     "output_type": "stream",
     "text": [
      "MSE_knn =  3003.3901481279886\n"
     ]
    }
   ],
   "source": [
    "print('MSE_knn = ', mean_squared_error(y_test, y_kNeighborPred))"
   ]
  },
  {
   "cell_type": "code",
   "execution_count": 57,
   "id": "e470f356-0c2d-4ac6-aa4e-473043329ec8",
   "metadata": {},
   "outputs": [],
   "source": [
    "#Linear Regression\n",
    "linearRegModel = sklearn.linear_model.LinearRegression()"
   ]
  },
  {
   "cell_type": "code",
   "execution_count": 58,
   "id": "eb61229c-4807-445d-b0e0-0d6599a5d874",
   "metadata": {},
   "outputs": [
    {
     "data": {
      "text/plain": [
       "LinearRegression()"
      ]
     },
     "execution_count": 58,
     "metadata": {},
     "output_type": "execute_result"
    }
   ],
   "source": [
    "linearRegModel.fit(x_train, y_train)"
   ]
  },
  {
   "cell_type": "code",
   "execution_count": 59,
   "id": "b0cad7b5-e15b-46f9-a47c-d37d6bc74b49",
   "metadata": {},
   "outputs": [],
   "source": [
    "y_linearPred = linearRegModel.predict(x_test)"
   ]
  },
  {
   "cell_type": "code",
   "execution_count": 85,
   "id": "30689aba-f318-49d6-9b35-4a552e265c8b",
   "metadata": {},
   "outputs": [
    {
     "name": "stdout",
     "output_type": "stream",
     "text": [
      "MSE_LinearReg =  2900.1732878832318\n"
     ]
    }
   ],
   "source": [
    "print('MSE_LinearReg = ', mean_squared_error(y_test, y_linearPred))"
   ]
  },
  {
   "cell_type": "code",
   "execution_count": 56,
   "id": "3ea588a3-260d-4079-87b2-09fcda4c46cc",
   "metadata": {},
   "outputs": [],
   "source": [
    "import sklearn.tree"
   ]
  },
  {
   "cell_type": "code",
   "execution_count": 71,
   "id": "6a89fced-157c-458a-b0a9-24707bdd64be",
   "metadata": {},
   "outputs": [
    {
     "name": "stdout",
     "output_type": "stream",
     "text": [
      "Cross validated MSE for 1 = 66.77484860968592\n",
      "Cross validated MSE for 2 = 61.26383483081285\n",
      "Cross validated MSE for 3 = 65.03284855777811\n",
      "Cross validated MSE for 4 = 65.44586519511108\n",
      "Cross validated MSE for 5 = 67.26256229735742\n",
      "Cross validated MSE for 6 = 71.01815859479089\n",
      "Cross validated MSE for 7 = 74.96966657782475\n",
      "Cross validated MSE for 8 = 78.454080034318\n",
      "Cross validated MSE for 9 = 78.63336699257707\n",
      "Cross validated MSE for 10 = 81.19921351368258\n"
     ]
    }
   ],
   "source": [
    "#calculate cross-validated MSE for depths between 1 to 10\n",
    "depth_range = range(1, 11)\n",
    "depth_scores = []\n",
    "for depth in depth_range:\n",
    "    depthN = sklearn.tree.DecisionTreeRegressor(max_depth=depth)\n",
    "    loss = cross_val_score(depthN,\n",
    "                           x_train,\n",
    "                           y_train, \n",
    "                           cv=5, \n",
    "                           scoring='neg_mean_squared_error')\n",
    "    depth_score = np.sqrt(-loss).mean()\n",
    "    depth_scores.append(np.sqrt(-loss).mean())\n",
    "    print('Cross validated MSE for ' + str(depth) + ' = ' + str(depth_score))"
   ]
  },
  {
   "cell_type": "code",
   "execution_count": 72,
   "id": "13f776ec-021a-40af-beeb-152d6eff60db",
   "metadata": {},
   "outputs": [
    {
     "data": {
      "text/plain": [
       "61.26383483081285"
      ]
     },
     "execution_count": 72,
     "metadata": {},
     "output_type": "execute_result"
    }
   ],
   "source": [
    "min(depth_scores)"
   ]
  },
  {
   "cell_type": "code",
   "execution_count": 73,
   "id": "b2b53995-00d7-4400-aac0-d32a8c47e7ae",
   "metadata": {},
   "outputs": [],
   "source": [
    "decisionTree2Model = sklearn.tree.DecisionTreeRegressor(max_depth=2)\n",
    "\n",
    "x_train, x_test, y_train, y_test = sklearn.model_selection.train_test_split(\n",
    "    x, y, test_size=0.2, random_state=42)\n",
    "\n",
    "decisionTree2Model.fit(x_train, y_train)\n",
    "y_decisionTree2Pred = decisionTree2Model.predict(x_test)"
   ]
  },
  {
   "cell_type": "code",
   "execution_count": 74,
   "id": "9cc4868b-8f54-4dd2-815e-6adb767d4ec1",
   "metadata": {},
   "outputs": [
    {
     "name": "stdout",
     "output_type": "stream",
     "text": [
      "MSE_depth2 =  3866.038156768628\n"
     ]
    }
   ],
   "source": [
    "print('MSE_depth2 = ', mean_squared_error(y_test, y_decisionTree2Pred))"
   ]
  },
  {
   "cell_type": "code",
   "execution_count": 78,
   "id": "2485d5ad-2181-4afb-a332-43d23086cc8b",
   "metadata": {},
   "outputs": [
    {
     "name": "stdout",
     "output_type": "stream",
     "text": [
      "|--- feature_2 <= 0.01\n",
      "|   |--- feature_8 <= 0.01\n",
      "|   |   |--- value: [100.56]\n",
      "|   |--- feature_8 >  0.01\n",
      "|   |   |--- value: [164.67]\n",
      "|--- feature_2 >  0.01\n",
      "|   |--- feature_2 <= 0.07\n",
      "|   |   |--- value: [191.10]\n",
      "|   |--- feature_2 >  0.07\n",
      "|   |   |--- value: [271.08]\n",
      "\n"
     ]
    }
   ],
   "source": [
    "text_representation = sklearn.tree.export_text(decisionTree2Model)\n",
    "print(text_representation)"
   ]
  },
  {
   "cell_type": "code",
   "execution_count": 79,
   "id": "42c8b854-34bc-424d-a29b-54e3a006f036",
   "metadata": {},
   "outputs": [],
   "source": [
    "from sklearn.ensemble import RandomForestRegressor"
   ]
  },
  {
   "cell_type": "code",
   "execution_count": 80,
   "id": "a0f86915-c9eb-4b34-9eb0-a85880d54e2b",
   "metadata": {},
   "outputs": [
    {
     "name": "stdout",
     "output_type": "stream",
     "text": [
      "Cross validated MSE for 1 = 62.58143608432808\n",
      "Cross validated MSE for 2 = 58.91838011934176\n",
      "Cross validated MSE for 3 = 58.227148899300175\n",
      "Cross validated MSE for 4 = 58.12636031742737\n",
      "Cross validated MSE for 5 = 57.939587082433434\n",
      "Cross validated MSE for 6 = 57.76896867426526\n",
      "Cross validated MSE for 7 = 58.54064487556832\n",
      "Cross validated MSE for 8 = 58.25849163514437\n",
      "Cross validated MSE for 9 = 58.7596656314178\n",
      "Cross validated MSE for 10 = 58.99689767140732\n"
     ]
    }
   ],
   "source": [
    "#calculate cross-validated MSE for depths between 1 to 10\n",
    "\n",
    "depth_range = range(1, 11)\n",
    "depth_scores = []\n",
    "for depth in depth_range:\n",
    "    depthN = sklearn.ensemble.RandomForestRegressor(max_depth=depth)\n",
    "    loss = cross_val_score(depthN,\n",
    "                           x_train,\n",
    "                           y_train, \n",
    "                           cv=5, \n",
    "                           scoring='neg_mean_squared_error')\n",
    "    depth_score = np.sqrt(-loss).mean()\n",
    "    depth_scores.append(np.sqrt(-loss).mean())\n",
    "    print('Cross validated MSE for ' + str(depth) + ' = ' + str(depth_score))"
   ]
  },
  {
   "cell_type": "code",
   "execution_count": 81,
   "id": "1823a1a1-cd40-47fd-ba05-a1fd40a07042",
   "metadata": {},
   "outputs": [
    {
     "data": {
      "text/plain": [
       "57.76896867426526"
      ]
     },
     "execution_count": 81,
     "metadata": {},
     "output_type": "execute_result"
    }
   ],
   "source": [
    "min(depth_scores)"
   ]
  },
  {
   "cell_type": "code",
   "execution_count": 82,
   "id": "9a298ad1-d8b6-46de-b57d-e9af43d60313",
   "metadata": {},
   "outputs": [],
   "source": [
    "randomForest6Model = sklearn.ensemble.RandomForestRegressor(max_depth=6)\n",
    "\n",
    "x_train, x_test, y_train, y_test = sklearn.model_selection.train_test_split(\n",
    "    x, y, test_size=0.2, random_state=42)\n",
    "\n",
    "randomForest6Model.fit(x_train, y_train)\n",
    "y_randomForest6Pred = randomForest6Model.predict(x_test)"
   ]
  },
  {
   "cell_type": "code",
   "execution_count": 83,
   "id": "db97b886-5d15-4ebf-af29-2339a898ae64",
   "metadata": {},
   "outputs": [
    {
     "name": "stdout",
     "output_type": "stream",
     "text": [
      "MSE_depth6 =  2957.109367678497\n"
     ]
    }
   ],
   "source": [
    "print('MSE_depth6 = ', mean_squared_error(y_test, y_randomForest6Pred))"
   ]
  },
  {
   "cell_type": "code",
   "execution_count": 84,
   "id": "0c9c4e0b-f17a-449c-82cc-c6c06cb9144b",
   "metadata": {},
   "outputs": [
    {
     "name": "stdout",
     "output_type": "stream",
     "text": [
      "|--- feature_2 <= 0.01\n",
      "|   |--- feature_8 <= 0.01\n",
      "|   |   |--- value: [100.56]\n",
      "|   |--- feature_8 >  0.01\n",
      "|   |   |--- value: [164.67]\n",
      "|--- feature_2 >  0.01\n",
      "|   |--- feature_2 <= 0.07\n",
      "|   |   |--- value: [191.10]\n",
      "|   |--- feature_2 >  0.07\n",
      "|   |   |--- value: [271.08]\n",
      "\n"
     ]
    }
   ],
   "source": [
    "text_representation = sklearn.tree.export_text(decisionTree2Model)\n",
    "print(text_representation)"
   ]
  },
  {
   "cell_type": "code",
   "execution_count": null,
   "id": "081be0dc-ef9a-4061-991f-0f28f8b4ac48",
   "metadata": {},
   "outputs": [],
   "source": [
    "#The lowest MSE that was found among the 4 models belonged to the linear regression model\n",
    "#(MSE_LinearReg =  2900.1732878832318)"
   ]
  }
 ],
 "metadata": {
  "kernelspec": {
   "display_name": "Python 3 (ipykernel)",
   "language": "python",
   "name": "python3"
  },
  "language_info": {
   "codemirror_mode": {
    "name": "ipython",
    "version": 3
   },
   "file_extension": ".py",
   "mimetype": "text/x-python",
   "name": "python",
   "nbconvert_exporter": "python",
   "pygments_lexer": "ipython3",
   "version": "3.9.6"
  }
 },
 "nbformat": 4,
 "nbformat_minor": 5
}
