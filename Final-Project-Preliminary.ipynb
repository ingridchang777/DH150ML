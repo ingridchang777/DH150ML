{
 "cells": [
  {
   "cell_type": "code",
   "execution_count": 109,
   "id": "9f8597fc-a757-4280-a219-52aa9594124f",
   "metadata": {},
   "outputs": [],
   "source": [
    "import sklearn.datasets\n",
    "import numpy as np\n",
    "import pandas as pd\n",
    "import matplotlib.pyplot as plt\n",
    "\n",
    "#import chosen file as a dataframe, which is regarding\n",
    "#student demographic and achievement in math courses\n",
    "\n",
    "input_file = \"student-mat.csv\"\n",
    "df = pd.read_csv(input_file, header=0, delimiter=';')"
   ]
  },
  {
   "cell_type": "code",
   "execution_count": 51,
   "id": "8ec76d27-3177-4a29-8fc5-818ed73354a5",
   "metadata": {},
   "outputs": [
    {
     "data": {
      "text/html": [
       "<div>\n",
       "<style scoped>\n",
       "    .dataframe tbody tr th:only-of-type {\n",
       "        vertical-align: middle;\n",
       "    }\n",
       "\n",
       "    .dataframe tbody tr th {\n",
       "        vertical-align: top;\n",
       "    }\n",
       "\n",
       "    .dataframe thead th {\n",
       "        text-align: right;\n",
       "    }\n",
       "</style>\n",
       "<table border=\"1\" class=\"dataframe\">\n",
       "  <thead>\n",
       "    <tr style=\"text-align: right;\">\n",
       "      <th></th>\n",
       "      <th>school</th>\n",
       "      <th>sex</th>\n",
       "      <th>age</th>\n",
       "      <th>address</th>\n",
       "      <th>famsize</th>\n",
       "      <th>Pstatus</th>\n",
       "      <th>Medu</th>\n",
       "      <th>Fedu</th>\n",
       "      <th>Mjob</th>\n",
       "      <th>Fjob</th>\n",
       "      <th>...</th>\n",
       "      <th>famrel</th>\n",
       "      <th>freetime</th>\n",
       "      <th>goout</th>\n",
       "      <th>Dalc</th>\n",
       "      <th>Walc</th>\n",
       "      <th>health</th>\n",
       "      <th>absences</th>\n",
       "      <th>G1</th>\n",
       "      <th>G2</th>\n",
       "      <th>G3</th>\n",
       "    </tr>\n",
       "  </thead>\n",
       "  <tbody>\n",
       "    <tr>\n",
       "      <th>0</th>\n",
       "      <td>GP</td>\n",
       "      <td>F</td>\n",
       "      <td>18</td>\n",
       "      <td>U</td>\n",
       "      <td>GT3</td>\n",
       "      <td>A</td>\n",
       "      <td>4</td>\n",
       "      <td>4</td>\n",
       "      <td>at_home</td>\n",
       "      <td>teacher</td>\n",
       "      <td>...</td>\n",
       "      <td>4</td>\n",
       "      <td>3</td>\n",
       "      <td>4</td>\n",
       "      <td>1</td>\n",
       "      <td>1</td>\n",
       "      <td>3</td>\n",
       "      <td>6</td>\n",
       "      <td>5</td>\n",
       "      <td>6</td>\n",
       "      <td>6</td>\n",
       "    </tr>\n",
       "    <tr>\n",
       "      <th>1</th>\n",
       "      <td>GP</td>\n",
       "      <td>F</td>\n",
       "      <td>17</td>\n",
       "      <td>U</td>\n",
       "      <td>GT3</td>\n",
       "      <td>T</td>\n",
       "      <td>1</td>\n",
       "      <td>1</td>\n",
       "      <td>at_home</td>\n",
       "      <td>other</td>\n",
       "      <td>...</td>\n",
       "      <td>5</td>\n",
       "      <td>3</td>\n",
       "      <td>3</td>\n",
       "      <td>1</td>\n",
       "      <td>1</td>\n",
       "      <td>3</td>\n",
       "      <td>4</td>\n",
       "      <td>5</td>\n",
       "      <td>5</td>\n",
       "      <td>6</td>\n",
       "    </tr>\n",
       "    <tr>\n",
       "      <th>2</th>\n",
       "      <td>GP</td>\n",
       "      <td>F</td>\n",
       "      <td>15</td>\n",
       "      <td>U</td>\n",
       "      <td>LE3</td>\n",
       "      <td>T</td>\n",
       "      <td>1</td>\n",
       "      <td>1</td>\n",
       "      <td>at_home</td>\n",
       "      <td>other</td>\n",
       "      <td>...</td>\n",
       "      <td>4</td>\n",
       "      <td>3</td>\n",
       "      <td>2</td>\n",
       "      <td>2</td>\n",
       "      <td>3</td>\n",
       "      <td>3</td>\n",
       "      <td>10</td>\n",
       "      <td>7</td>\n",
       "      <td>8</td>\n",
       "      <td>10</td>\n",
       "    </tr>\n",
       "    <tr>\n",
       "      <th>3</th>\n",
       "      <td>GP</td>\n",
       "      <td>F</td>\n",
       "      <td>15</td>\n",
       "      <td>U</td>\n",
       "      <td>GT3</td>\n",
       "      <td>T</td>\n",
       "      <td>4</td>\n",
       "      <td>2</td>\n",
       "      <td>health</td>\n",
       "      <td>services</td>\n",
       "      <td>...</td>\n",
       "      <td>3</td>\n",
       "      <td>2</td>\n",
       "      <td>2</td>\n",
       "      <td>1</td>\n",
       "      <td>1</td>\n",
       "      <td>5</td>\n",
       "      <td>2</td>\n",
       "      <td>15</td>\n",
       "      <td>14</td>\n",
       "      <td>15</td>\n",
       "    </tr>\n",
       "    <tr>\n",
       "      <th>4</th>\n",
       "      <td>GP</td>\n",
       "      <td>F</td>\n",
       "      <td>16</td>\n",
       "      <td>U</td>\n",
       "      <td>GT3</td>\n",
       "      <td>T</td>\n",
       "      <td>3</td>\n",
       "      <td>3</td>\n",
       "      <td>other</td>\n",
       "      <td>other</td>\n",
       "      <td>...</td>\n",
       "      <td>4</td>\n",
       "      <td>3</td>\n",
       "      <td>2</td>\n",
       "      <td>1</td>\n",
       "      <td>2</td>\n",
       "      <td>5</td>\n",
       "      <td>4</td>\n",
       "      <td>6</td>\n",
       "      <td>10</td>\n",
       "      <td>10</td>\n",
       "    </tr>\n",
       "    <tr>\n",
       "      <th>...</th>\n",
       "      <td>...</td>\n",
       "      <td>...</td>\n",
       "      <td>...</td>\n",
       "      <td>...</td>\n",
       "      <td>...</td>\n",
       "      <td>...</td>\n",
       "      <td>...</td>\n",
       "      <td>...</td>\n",
       "      <td>...</td>\n",
       "      <td>...</td>\n",
       "      <td>...</td>\n",
       "      <td>...</td>\n",
       "      <td>...</td>\n",
       "      <td>...</td>\n",
       "      <td>...</td>\n",
       "      <td>...</td>\n",
       "      <td>...</td>\n",
       "      <td>...</td>\n",
       "      <td>...</td>\n",
       "      <td>...</td>\n",
       "      <td>...</td>\n",
       "    </tr>\n",
       "    <tr>\n",
       "      <th>390</th>\n",
       "      <td>MS</td>\n",
       "      <td>M</td>\n",
       "      <td>20</td>\n",
       "      <td>U</td>\n",
       "      <td>LE3</td>\n",
       "      <td>A</td>\n",
       "      <td>2</td>\n",
       "      <td>2</td>\n",
       "      <td>services</td>\n",
       "      <td>services</td>\n",
       "      <td>...</td>\n",
       "      <td>5</td>\n",
       "      <td>5</td>\n",
       "      <td>4</td>\n",
       "      <td>4</td>\n",
       "      <td>5</td>\n",
       "      <td>4</td>\n",
       "      <td>11</td>\n",
       "      <td>9</td>\n",
       "      <td>9</td>\n",
       "      <td>9</td>\n",
       "    </tr>\n",
       "    <tr>\n",
       "      <th>391</th>\n",
       "      <td>MS</td>\n",
       "      <td>M</td>\n",
       "      <td>17</td>\n",
       "      <td>U</td>\n",
       "      <td>LE3</td>\n",
       "      <td>T</td>\n",
       "      <td>3</td>\n",
       "      <td>1</td>\n",
       "      <td>services</td>\n",
       "      <td>services</td>\n",
       "      <td>...</td>\n",
       "      <td>2</td>\n",
       "      <td>4</td>\n",
       "      <td>5</td>\n",
       "      <td>3</td>\n",
       "      <td>4</td>\n",
       "      <td>2</td>\n",
       "      <td>3</td>\n",
       "      <td>14</td>\n",
       "      <td>16</td>\n",
       "      <td>16</td>\n",
       "    </tr>\n",
       "    <tr>\n",
       "      <th>392</th>\n",
       "      <td>MS</td>\n",
       "      <td>M</td>\n",
       "      <td>21</td>\n",
       "      <td>R</td>\n",
       "      <td>GT3</td>\n",
       "      <td>T</td>\n",
       "      <td>1</td>\n",
       "      <td>1</td>\n",
       "      <td>other</td>\n",
       "      <td>other</td>\n",
       "      <td>...</td>\n",
       "      <td>5</td>\n",
       "      <td>5</td>\n",
       "      <td>3</td>\n",
       "      <td>3</td>\n",
       "      <td>3</td>\n",
       "      <td>3</td>\n",
       "      <td>3</td>\n",
       "      <td>10</td>\n",
       "      <td>8</td>\n",
       "      <td>7</td>\n",
       "    </tr>\n",
       "    <tr>\n",
       "      <th>393</th>\n",
       "      <td>MS</td>\n",
       "      <td>M</td>\n",
       "      <td>18</td>\n",
       "      <td>R</td>\n",
       "      <td>LE3</td>\n",
       "      <td>T</td>\n",
       "      <td>3</td>\n",
       "      <td>2</td>\n",
       "      <td>services</td>\n",
       "      <td>other</td>\n",
       "      <td>...</td>\n",
       "      <td>4</td>\n",
       "      <td>4</td>\n",
       "      <td>1</td>\n",
       "      <td>3</td>\n",
       "      <td>4</td>\n",
       "      <td>5</td>\n",
       "      <td>0</td>\n",
       "      <td>11</td>\n",
       "      <td>12</td>\n",
       "      <td>10</td>\n",
       "    </tr>\n",
       "    <tr>\n",
       "      <th>394</th>\n",
       "      <td>MS</td>\n",
       "      <td>M</td>\n",
       "      <td>19</td>\n",
       "      <td>U</td>\n",
       "      <td>LE3</td>\n",
       "      <td>T</td>\n",
       "      <td>1</td>\n",
       "      <td>1</td>\n",
       "      <td>other</td>\n",
       "      <td>at_home</td>\n",
       "      <td>...</td>\n",
       "      <td>3</td>\n",
       "      <td>2</td>\n",
       "      <td>3</td>\n",
       "      <td>3</td>\n",
       "      <td>3</td>\n",
       "      <td>5</td>\n",
       "      <td>5</td>\n",
       "      <td>8</td>\n",
       "      <td>9</td>\n",
       "      <td>9</td>\n",
       "    </tr>\n",
       "  </tbody>\n",
       "</table>\n",
       "<p>395 rows × 33 columns</p>\n",
       "</div>"
      ],
      "text/plain": [
       "    school sex  age address famsize Pstatus  Medu  Fedu      Mjob      Fjob  \\\n",
       "0       GP   F   18       U     GT3       A     4     4   at_home   teacher   \n",
       "1       GP   F   17       U     GT3       T     1     1   at_home     other   \n",
       "2       GP   F   15       U     LE3       T     1     1   at_home     other   \n",
       "3       GP   F   15       U     GT3       T     4     2    health  services   \n",
       "4       GP   F   16       U     GT3       T     3     3     other     other   \n",
       "..     ...  ..  ...     ...     ...     ...   ...   ...       ...       ...   \n",
       "390     MS   M   20       U     LE3       A     2     2  services  services   \n",
       "391     MS   M   17       U     LE3       T     3     1  services  services   \n",
       "392     MS   M   21       R     GT3       T     1     1     other     other   \n",
       "393     MS   M   18       R     LE3       T     3     2  services     other   \n",
       "394     MS   M   19       U     LE3       T     1     1     other   at_home   \n",
       "\n",
       "     ... famrel freetime  goout  Dalc  Walc health absences  G1  G2  G3  \n",
       "0    ...      4        3      4     1     1      3        6   5   6   6  \n",
       "1    ...      5        3      3     1     1      3        4   5   5   6  \n",
       "2    ...      4        3      2     2     3      3       10   7   8  10  \n",
       "3    ...      3        2      2     1     1      5        2  15  14  15  \n",
       "4    ...      4        3      2     1     2      5        4   6  10  10  \n",
       "..   ...    ...      ...    ...   ...   ...    ...      ...  ..  ..  ..  \n",
       "390  ...      5        5      4     4     5      4       11   9   9   9  \n",
       "391  ...      2        4      5     3     4      2        3  14  16  16  \n",
       "392  ...      5        5      3     3     3      3        3  10   8   7  \n",
       "393  ...      4        4      1     3     4      5        0  11  12  10  \n",
       "394  ...      3        2      3     3     3      5        5   8   9   9  \n",
       "\n",
       "[395 rows x 33 columns]"
      ]
     },
     "execution_count": 51,
     "metadata": {},
     "output_type": "execute_result"
    }
   ],
   "source": [
    "df"
   ]
  },
  {
   "cell_type": "code",
   "execution_count": 52,
   "id": "196320f7-5587-4877-9556-6cbc402ce0dc",
   "metadata": {},
   "outputs": [
    {
     "data": {
      "text/plain": [
       "Index(['school', 'sex', 'age', 'address', 'famsize', 'Pstatus', 'Medu', 'Fedu',\n",
       "       'Mjob', 'Fjob', 'reason', 'guardian', 'traveltime', 'studytime',\n",
       "       'failures', 'schoolsup', 'famsup', 'paid', 'activities', 'nursery',\n",
       "       'higher', 'internet', 'romantic', 'famrel', 'freetime', 'goout', 'Dalc',\n",
       "       'Walc', 'health', 'absences', 'G1', 'G2', 'G3'],\n",
       "      dtype='object')"
      ]
     },
     "execution_count": 52,
     "metadata": {},
     "output_type": "execute_result"
    }
   ],
   "source": [
    "#review columns\n",
    "df.columns"
   ]
  },
  {
   "cell_type": "code",
   "execution_count": 84,
   "id": "8ee497cf-636c-4bb9-ad02-3f077195ca02",
   "metadata": {},
   "outputs": [
    {
     "data": {
      "text/plain": [
       "<AxesSubplot:xlabel='Pstatus', ylabel='G3'>"
      ]
     },
     "execution_count": 84,
     "metadata": {},
     "output_type": "execute_result"
    },
    {
     "data": {
      "image/png": "[encoded data removed]",
      "text/plain": [
       "<Figure size 432x288 with 1 Axes>"
      ]
     },
     "metadata": {
      "needs_background": "light"
     },
     "output_type": "display_data"
    }
   ],
   "source": [
    "#plot of parental status (apart or together) vs G3 (final grade)\n",
    "df.plot.scatter(x='Pstatus',y='G3')"
   ]
  },
  {
   "cell_type": "code",
   "execution_count": 66,
   "id": "8471c7f6-da4a-4576-b7b0-75b55dfd82a7",
   "metadata": {},
   "outputs": [
    {
     "data": {
      "text/plain": [
       "<AxesSubplot:xlabel='studytime', ylabel='G3'>"
      ]
     },
     "execution_count": 66,
     "metadata": {},
     "output_type": "execute_result"
    },
    {
     "data": {
      "image/png": "[encoded data removed]",
      "text/plain": [
       "<Figure size 432x288 with 1 Axes>"
      ]
     },
     "metadata": {
      "needs_background": "light"
     },
     "output_type": "display_data"
    }
   ],
   "source": [
    "#plot of time spent studying every week vs G3 (final grade)\n",
    "df.plot.scatter(x='studytime',y='G3')"
   ]
  },
  {
   "cell_type": "code",
   "execution_count": 67,
   "id": "5eaebb99-bed6-4d87-ab17-2698db4f062a",
   "metadata": {},
   "outputs": [
    {
     "data": {
      "text/plain": [
       "<AxesSubplot:xlabel='guardian', ylabel='G3'>"
      ]
     },
     "execution_count": 67,
     "metadata": {},
     "output_type": "execute_result"
    },
    {
     "data": {
      "image/png": "[encoded data removed]",
      "text/plain": [
       "<Figure size 432x288 with 1 Axes>"
      ]
     },
     "metadata": {
      "needs_background": "light"
     },
     "output_type": "display_data"
    }
   ],
   "source": [
    "#plot of guardian vs G3 (final grade)\n",
    "df.plot.scatter(x='guardian',y='G3')"
   ]
  },
  {
   "cell_type": "code",
   "execution_count": 70,
   "id": "2f027dd8-dcaf-4cc2-aad3-5ba92b4de7ca",
   "metadata": {},
   "outputs": [
    {
     "data": {
      "text/plain": [
       "<AxesSubplot:xlabel='failures', ylabel='G3'>"
      ]
     },
     "execution_count": 70,
     "metadata": {},
     "output_type": "execute_result"
    },
    {
     "data": {
      "image/png": "[encoded data removed]",
      "text/plain": [
       "<Figure size 432x288 with 1 Axes>"
      ]
     },
     "metadata": {
      "needs_background": "light"
     },
     "output_type": "display_data"
    }
   ],
   "source": [
    "#plot of past class failures vs G3 (final grade)\n",
    "#some correlation of more failtures with lower final grades\n",
    "df.plot.scatter(x='failures',y='G3')"
   ]
  },
  {
   "cell_type": "code",
   "execution_count": 71,
   "id": "db270cff-4353-407f-9d60-e09235552e9c",
   "metadata": {},
   "outputs": [
    {
     "data": {
      "text/plain": [
       "<AxesSubplot:xlabel='internet', ylabel='G3'>"
      ]
     },
     "execution_count": 71,
     "metadata": {},
     "output_type": "execute_result"
    },
    {
     "data": {
      "image/png": "[encoded data removed]",
      "text/plain": [
       "<Figure size 432x288 with 1 Axes>"
      ]
     },
     "metadata": {
      "needs_background": "light"
     },
     "output_type": "display_data"
    }
   ],
   "source": [
    "#plot of internet access vs G3 (final grade)\n",
    "df.plot.scatter(x='internet',y='G3')"
   ]
  },
  {
   "cell_type": "code",
   "execution_count": 74,
   "id": "ebdbf73c-9ecb-4f49-be76-a2e501cdae0a",
   "metadata": {},
   "outputs": [
    {
     "data": {
      "text/plain": [
       "<AxesSubplot:xlabel='famrel', ylabel='G3'>"
      ]
     },
     "execution_count": 74,
     "metadata": {},
     "output_type": "execute_result"
    },
    {
     "data": {
      "image/png": "[encoded data removed]",
      "text/plain": [
       "<Figure size 432x288 with 1 Axes>"
      ]
     },
     "metadata": {
      "needs_background": "light"
     },
     "output_type": "display_data"
    }
   ],
   "source": [
    "#plot of family relationship rated 1-5 (5 as best)vs G3 (final grade)\n",
    "df.plot.scatter(x='famrel',y='G3')"
   ]
  },
  {
   "cell_type": "code",
   "execution_count": 77,
   "id": "7fc1d11f-ccd4-43c3-8584-fbb46f1e852c",
   "metadata": {},
   "outputs": [
    {
     "data": {
      "text/plain": [
       "<AxesSubplot:xlabel='Dalc', ylabel='G3'>"
      ]
     },
     "execution_count": 77,
     "metadata": {},
     "output_type": "execute_result"
    },
    {
     "data": {
      "image/png": "[encoded data removed]",
      "text/plain": [
       "<Figure size 432x288 with 1 Axes>"
      ]
     },
     "metadata": {
      "needs_background": "light"
     },
     "output_type": "display_data"
    }
   ],
   "source": [
    "#plot of workday alcohol consumption vs G3 (final grade)\n",
    "#slight relationship of higher workday alcohol consumption being correlated with lower final grades\n",
    "df.plot.scatter(x='Dalc',y='G3')"
   ]
  },
  {
   "cell_type": "code",
   "execution_count": 78,
   "id": "3bf80272-f45a-4bef-802f-e4e594a2cd02",
   "metadata": {},
   "outputs": [
    {
     "data": {
      "text/plain": [
       "<AxesSubplot:xlabel='absences', ylabel='G3'>"
      ]
     },
     "execution_count": 78,
     "metadata": {},
     "output_type": "execute_result"
    },
    {
     "data": {
      "image/png": "[encoded data removed]",
      "text/plain": [
       "<Figure size 432x288 with 1 Axes>"
      ]
     },
     "metadata": {
      "needs_background": "light"
     },
     "output_type": "display_data"
    }
   ],
   "source": [
    "#plot of number of absences vs G3 (final grade)\n",
    "df.plot.scatter(x='absences',y='G3')"
   ]
  },
  {
   "cell_type": "code",
   "execution_count": 80,
   "id": "b91253a4-3334-44bc-bf12-b74800f23cb6",
   "metadata": {},
   "outputs": [
    {
     "data": {
      "text/plain": [
       "<AxesSubplot:xlabel='Dalc', ylabel='absences'>"
      ]
     },
     "execution_count": 80,
     "metadata": {},
     "output_type": "execute_result"
    },
    {
     "data": {
      "image/png": "[encoded data removed]",
      "text/plain": [
       "<Figure size 432x288 with 1 Axes>"
      ]
     },
     "metadata": {
      "needs_background": "light"
     },
     "output_type": "display_data"
    }
   ],
   "source": [
    "#plot of workday alcohol consumption vs number of absences\n",
    "df.plot.scatter(x='Dalc',y='absences')"
   ]
  },
  {
   "cell_type": "code",
   "execution_count": 82,
   "id": "e3a35f20-d1e2-42f4-a81f-850487d8fa2e",
   "metadata": {},
   "outputs": [
    {
     "data": {
      "text/plain": [
       "<AxesSubplot:xlabel='failures', ylabel='absences'>"
      ]
     },
     "execution_count": 82,
     "metadata": {},
     "output_type": "execute_result"
    },
    {
     "data": {
      "image/png": "[encoded data removed]",
      "text/plain": [
       "<Figure size 432x288 with 1 Axes>"
      ]
     },
     "metadata": {
      "needs_background": "light"
     },
     "output_type": "display_data"
    }
   ],
   "source": [
    "#plot of number of classes failed vs number of absences\n",
    "df.plot.scatter(x='failures',y='absences')"
   ]
  },
  {
   "cell_type": "code",
   "execution_count": 86,
   "id": "fa2cf47f-6d27-4e83-bdcf-43a2a13c35d3",
   "metadata": {},
   "outputs": [
    {
     "data": {
      "text/plain": [
       "<AxesSubplot:xlabel='age', ylabel='Dalc'>"
      ]
     },
     "execution_count": 86,
     "metadata": {},
     "output_type": "execute_result"
    },
    {
     "data": {
      "image/png": "[encoded data removed]",
      "text/plain": [
       "<Figure size 432x288 with 1 Axes>"
      ]
     },
     "metadata": {
      "needs_background": "light"
     },
     "output_type": "display_data"
    }
   ],
   "source": [
    "#plot of age vs workday alcohol consumption\n",
    "df.plot.scatter(x='age',y='Dalc')"
   ]
  },
  {
   "cell_type": "code",
   "execution_count": 88,
   "id": "3999fab4-89ba-4166-af0c-83dcfb717b31",
   "metadata": {},
   "outputs": [],
   "source": [
    "#perform linear regression model to explore relationship\n",
    "#between number of classes failed vs final math grade\n",
    "import sklearn.linear_model\n",
    "model = sklearn.linear_model.LinearRegression()"
   ]
  },
  {
   "cell_type": "code",
   "execution_count": 90,
   "id": "1504d301-b5ec-4960-87fb-b39cfc156069",
   "metadata": {},
   "outputs": [],
   "source": [
    "import sklearn.model_selection"
   ]
  },
  {
   "cell_type": "code",
   "execution_count": 93,
   "id": "cfb34c58-0b9f-4cf6-bda3-c661c6dcd73d",
   "metadata": {},
   "outputs": [],
   "source": [
    "x = df['failures']"
   ]
  },
  {
   "cell_type": "code",
   "execution_count": 94,
   "id": "b021bd4f-1e12-404b-813c-f43b4e2bab56",
   "metadata": {},
   "outputs": [
    {
     "data": {
      "text/plain": [
       "0      0\n",
       "1      0\n",
       "2      3\n",
       "3      0\n",
       "4      0\n",
       "      ..\n",
       "390    2\n",
       "391    0\n",
       "392    3\n",
       "393    0\n",
       "394    0\n",
       "Name: failures, Length: 395, dtype: int64"
      ]
     },
     "execution_count": 94,
     "metadata": {},
     "output_type": "execute_result"
    }
   ],
   "source": [
    "#check x content\n",
    "x"
   ]
  },
  {
   "cell_type": "code",
   "execution_count": 95,
   "id": "b8fec004-e9c8-4269-a8cf-f88e2501cef2",
   "metadata": {},
   "outputs": [],
   "source": [
    "y = df['G3']"
   ]
  },
  {
   "cell_type": "code",
   "execution_count": 96,
   "id": "cc83b8b8-811a-4737-8b08-eff0fb578d4f",
   "metadata": {},
   "outputs": [],
   "source": [
    "#split the model into training and testing sets\n",
    "x_train, x_test, y_train, y_test = sklearn.model_selection.train_test_split(\n",
    "    x, y, test_size=0.2, random_state=42)"
   ]
  },
  {
   "cell_type": "code",
   "execution_count": 97,
   "id": "cea97ec9-5adb-4b96-a3e5-430591c9a6fc",
   "metadata": {},
   "outputs": [
    {
     "data": {
      "text/plain": [
       "(316,)"
      ]
     },
     "execution_count": 97,
     "metadata": {},
     "output_type": "execute_result"
    }
   ],
   "source": [
    "x_train.shape"
   ]
  },
  {
   "cell_type": "code",
   "execution_count": 101,
   "id": "fbfb99a4-371c-4fb8-b48e-4b1140d17620",
   "metadata": {},
   "outputs": [],
   "source": [
    "x_train = x_train.values"
   ]
  },
  {
   "cell_type": "code",
   "execution_count": 98,
   "id": "7e5831b8-6f34-4f60-9de3-d3bed2146bd6",
   "metadata": {},
   "outputs": [
    {
     "data": {
      "text/plain": [
       "(79,)"
      ]
     },
     "execution_count": 98,
     "metadata": {},
     "output_type": "execute_result"
    }
   ],
   "source": [
    "x_test.shape"
   ]
  },
  {
   "cell_type": "code",
   "execution_count": 104,
   "id": "8a22a427-a0bb-414b-a695-7900f47fd11d",
   "metadata": {},
   "outputs": [],
   "source": [
    "x_test = x_test.values"
   ]
  },
  {
   "cell_type": "code",
   "execution_count": 105,
   "id": "0b99f01c-58c7-49fc-94d6-29dd326a3612",
   "metadata": {},
   "outputs": [],
   "source": [
    "#reshape in order to perform regression\n",
    "x_train = x_train.reshape(-1,1)\n",
    "x_test = x_test.reshape(-1,1)"
   ]
  },
  {
   "cell_type": "code",
   "execution_count": 106,
   "id": "03c7c977-8fc3-4a3c-82c4-5c10928d0acd",
   "metadata": {},
   "outputs": [
    {
     "data": {
      "text/plain": [
       "LinearRegression()"
      ]
     },
     "execution_count": 106,
     "metadata": {},
     "output_type": "execute_result"
    }
   ],
   "source": [
    "model.fit(x_train,y_train)"
   ]
  },
  {
   "cell_type": "code",
   "execution_count": null,
   "id": "7c2a5b54-c858-47a2-a653-13dceee18ac0",
   "metadata": {},
   "outputs": [
    {
     "data": {
      "text/plain": [
       "<matplotlib.collections.PathCollection at 0x7f8b9b72db80>"
      ]
     },
     "execution_count": 116,
     "metadata": {},
     "output_type": "execute_result"
    },
    {
     "data": {
      "image/png": "[encoded data removed]",
      "text/plain": [
       "<Figure size 432x288 with 1 Axes>"
      ]
     },
     "metadata": {
      "needs_background": "light"
     },
     "output_type": "display_data"
    }
   ],
   "source": [
    "plt.scatter(x_test,y_test)"
   ]
  },
  {
   "cell_type": "code",
   "execution_count": 113,
   "id": "fa792230-cc18-468b-ae1c-aad5d540b74f",
   "metadata": {},
   "outputs": [],
   "source": [
    "y_pred = model.predict(x_test)"
   ]
  },
  {
   "cell_type": "code",
   "execution_count": 115,
   "id": "5dc110be-8d2c-4f93-a9d3-dc83c5ed9fba",
   "metadata": {},
   "outputs": [
    {
     "data": {
      "text/plain": [
       "<matplotlib.collections.PathCollection at 0x7f8b9b7c7370>"
      ]
     },
     "execution_count": 115,
     "metadata": {},
     "output_type": "execute_result"
    },
    {
     "data": {
      "image/png": "[encoded data removed]",
      "text/plain": [
       "<Figure size 432x288 with 1 Axes>"
      ]
     },
     "metadata": {
      "needs_background": "light"
     },
     "output_type": "display_data"
    }
   ],
   "source": [
    "plt.scatter(x_test,y_pred)"
   ]
  },
  {
   "cell_type": "code",
   "execution_count": 119,
   "id": "fd78864a-9744-4c90-b8da-c4b4c8757ff3",
   "metadata": {},
   "outputs": [
    {
     "name": "stdout",
     "output_type": "stream",
     "text": [
      "MSE =  18.875617962114454\n",
      "R^2 =  0.07946479150473307\n"
     ]
    }
   ],
   "source": [
    "#evaluate quality of model\n",
    "from sklearn.metrics import mean_squared_error, r2_score\n",
    "print('MSE = ', mean_squared_error(y_test, model.predict(x_test)))\n",
    "print('R^2 = ', r2_score(y_test, model.predict(x_test)))"
   ]
  },
  {
   "cell_type": "code",
   "execution_count": 117,
   "id": "5bd865c8-1b01-42e4-85ea-27e0d9e0a3ff",
   "metadata": {},
   "outputs": [],
   "source": [
    "#perform cross-validated k-neighbor classifier model\n",
    "import sklearn.neighbors"
   ]
  },
  {
   "cell_type": "code",
   "execution_count": 122,
   "id": "47f8e43e-7ad9-438a-8229-a6e97c6ea43a",
   "metadata": {},
   "outputs": [],
   "source": [
    "from sklearn.model_selection import cross_val_score"
   ]
  },
  {
   "cell_type": "code",
   "execution_count": null,
   "id": "d1352ab4-61b5-4dde-824b-b208fd5c0789",
   "metadata": {},
   "outputs": [],
   "source": [
    "model = sklearn.neighbors.KNeighborsRegressor(n_neighbors=3)"
   ]
  },
  {
   "cell_type": "code",
   "execution_count": 123,
   "id": "0db19752-2184-4632-93f7-583e683e2010",
   "metadata": {},
   "outputs": [
    {
     "name": "stdout",
     "output_type": "stream",
     "text": [
      "Cross validated MSE for 1 = 6.2009103758473065\n",
      "Cross validated MSE for 2 = 4.964538602430303\n",
      "Cross validated MSE for 3 = 4.849980720732616\n",
      "Cross validated MSE for 4 = 4.821228869328519\n",
      "Cross validated MSE for 5 = 4.839751204214882\n",
      "Cross validated MSE for 6 = 4.785332001071217\n",
      "Cross validated MSE for 7 = 4.658282702356656\n",
      "Cross validated MSE for 8 = 4.5378514515035935\n",
      "Cross validated MSE for 9 = 4.475203409104553\n",
      "Cross validated MSE for 10 = 4.4842557754675285\n",
      "Cross validated MSE for 11 = 4.459586763200682\n",
      "Cross validated MSE for 12 = 4.437765555087394\n",
      "Cross validated MSE for 13 = 4.355908523294952\n",
      "Cross validated MSE for 14 = 4.332043517840714\n",
      "Cross validated MSE for 15 = 4.343367554248717\n",
      "Cross validated MSE for 16 = 4.320721027497146\n",
      "Cross validated MSE for 17 = 4.31282307147065\n",
      "Cross validated MSE for 18 = 4.32849318085544\n",
      "Cross validated MSE for 19 = 4.325436556537087\n"
     ]
    }
   ],
   "source": [
    "#calculate cross-validated MSE for k neighbors between 1 to 20\n",
    "k_range = range(1, 20)\n",
    "k_scores = []\n",
    "for k in k_range:\n",
    "    knn = sklearn.neighbors.KNeighborsRegressor(n_neighbors=k)\n",
    "    loss = cross_val_score(knn,\n",
    "                           x_train,\n",
    "                           y_train, \n",
    "                           cv=5, \n",
    "                           scoring='neg_mean_squared_error')\n",
    "    k_score = np.sqrt(-loss).mean()\n",
    "    k_scores.append(np.sqrt(-loss).mean())\n",
    "    print('Cross validated MSE for ' + str(k) + ' = ' + str(k_score))"
   ]
  },
  {
   "cell_type": "code",
   "execution_count": 124,
   "id": "e9a7e9ee-61e8-40d2-af23-a303f0cc66c4",
   "metadata": {},
   "outputs": [
    {
     "data": {
      "text/plain": [
       "4.31282307147065"
      ]
     },
     "execution_count": 124,
     "metadata": {},
     "output_type": "execute_result"
    }
   ],
   "source": [
    "#determine the lowest MSE\n",
    "min(k_scores)"
   ]
  },
  {
   "cell_type": "code",
   "execution_count": 125,
   "id": "b47cb922-c0e1-4fe3-a8cd-06d6258b7bd9",
   "metadata": {},
   "outputs": [],
   "source": [
    "#set the optimized number of neighbors, 17, and fit the model onto training data\n",
    "kNeighborModel = sklearn.neighbors.KNeighborsRegressor(n_neighbors=17)\n",
    "kNeighborModel.fit(x_train, y_train)\n",
    "\n",
    "#predict y using testing x test group\n",
    "y_kNeighborPred = kNeighborModel.predict(x_test)"
   ]
  },
  {
   "cell_type": "code",
   "execution_count": 126,
   "id": "b7511ef2-cdcb-4051-ac0c-61df746fd17d",
   "metadata": {},
   "outputs": [
    {
     "name": "stdout",
     "output_type": "stream",
     "text": [
      "MSE_knn =  18.418378520432746\n"
     ]
    }
   ],
   "source": [
    "#evaluate error\n",
    "print('MSE_knn = ', mean_squared_error(y_test, y_kNeighborPred))"
   ]
  },
  {
   "cell_type": "code",
   "execution_count": 129,
   "id": "1f50a233-8dcd-4f32-986f-8379932ca248",
   "metadata": {},
   "outputs": [
    {
     "data": {
      "text/plain": [
       "<matplotlib.collections.PathCollection at 0x7f8b9b527760>"
      ]
     },
     "execution_count": 129,
     "metadata": {},
     "output_type": "execute_result"
    },
    {
     "data": {
      "image/png": "[encoded data removed]",
      "text/plain": [
       "<Figure size 432x288 with 1 Axes>"
      ]
     },
     "metadata": {
      "needs_background": "light"
     },
     "output_type": "display_data"
    }
   ],
   "source": [
    "plt.scatter(x_test,y_kNeighborPred)"
   ]
  },
  {
   "cell_type": "code",
   "execution_count": null,
   "id": "20f134c3-b052-4866-a6c9-1e00aa5a4f72",
   "metadata": {},
   "outputs": [],
   "source": [
    "#The k-neighbor classifier model has a slightly lower MSE than the linear regression model\n",
    "\n",
    "#Confirm: the variables under examinsation being discrete makes classifying more appropriate of an approach?"
   ]
  }
 ],
 "metadata": {
  "kernelspec": {
   "display_name": "Python 3 (ipykernel)",
   "language": "python",
   "name": "python3"
  },
  "language_info": {
   "codemirror_mode": {
    "name": "ipython",
    "version": 3
   },
   "file_extension": ".py",
   "mimetype": "text/x-python",
   "name": "python",
   "nbconvert_exporter": "python",
   "pygments_lexer": "ipython3",
   "version": "3.9.6"
  }
 },
 "nbformat": 4,
 "nbformat_minor": 5
}
